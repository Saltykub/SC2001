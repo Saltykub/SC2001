{
 "cells": [
  {
   "cell_type": "code",
   "execution_count": 2,
   "metadata": {},
   "outputs": [],
   "source": [
    "from utils import *\n",
    "import pandas as pd\n",
    "import time\n",
    "import plotly.express as px\n",
    "import numpy as np"
   ]
  },
  {
   "cell_type": "code",
   "execution_count": 4,
   "metadata": {},
   "outputs": [],
   "source": [
    "random.seed(123)\n",
    "dataset = []\n",
    "for i in range(1,8):\n",
    "    data = generate_sample(10**i)\n",
    "    dataset.append(data)"
   ]
  },
  {
   "cell_type": "code",
   "execution_count": 15,
   "metadata": {},
   "outputs": [
    {
     "name": "stdout",
     "output_type": "stream",
     "text": [
      "finish lapes:1\n",
      "finish lapes:2\n",
      "finish lapes:3\n",
      "finish lapes:4\n",
      "finish lapes:5\n",
      "finish lapes:6\n",
      "finish lapes:7\n",
      "finish lapes:8\n",
      "finish lapes:9\n",
      "finish lapes:10\n",
      "finish lapes:11\n",
      "finish lapes:12\n",
      "finish lapes:13\n",
      "finish lapes:14\n",
      "finish lapes:15\n",
      "finish lapes:16\n",
      "finish lapes:17\n",
      "finish lapes:18\n",
      "finish lapes:19\n",
      "finish lapes:20\n",
      "finish lapes:21\n",
      "finish lapes:22\n",
      "finish lapes:23\n",
      "finish lapes:24\n",
      "finish lapes:25\n",
      "finish lapes:26\n",
      "finish lapes:27\n",
      "finish lapes:28\n",
      "finish lapes:29\n",
      "finish lapes:30\n",
      "finish lapes:31\n",
      "finish lapes:32\n",
      "finish lapes:33\n",
      "finish lapes:34\n",
      "finish lapes:35\n",
      "finish lapes:36\n",
      "finish lapes:37\n",
      "finish lapes:38\n",
      "finish lapes:39\n",
      "finish lapes:40\n",
      "finish lapes:41\n",
      "finish lapes:42\n",
      "finish lapes:43\n",
      "finish lapes:44\n",
      "finish lapes:45\n",
      "finish lapes:46\n",
      "finish lapes:47\n",
      "finish lapes:48\n",
      "finish lapes:49\n",
      "finish lapes:50\n",
      "finish lapes:51\n",
      "finish lapes:52\n",
      "finish lapes:53\n",
      "finish lapes:54\n",
      "finish lapes:55\n",
      "finish lapes:56\n",
      "finish lapes:57\n",
      "finish lapes:58\n",
      "finish lapes:59\n",
      "finish lapes:60\n",
      "finish lapes:61\n",
      "finish lapes:62\n",
      "finish lapes:63\n",
      "finish lapes:64\n",
      "finish lapes:65\n",
      "finish lapes:66\n",
      "finish lapes:67\n",
      "finish lapes:68\n",
      "finish lapes:69\n",
      "finish lapes:70\n",
      "finish lapes:71\n",
      "finish lapes:72\n",
      "finish lapes:73\n",
      "finish lapes:74\n",
      "finish lapes:75\n",
      "finish lapes:76\n",
      "finish lapes:77\n",
      "finish lapes:78\n",
      "finish lapes:79\n",
      "finish lapes:80\n",
      "finish lapes:81\n",
      "finish lapes:82\n",
      "finish lapes:83\n",
      "finish lapes:84\n",
      "finish lapes:85\n",
      "finish lapes:86\n",
      "finish lapes:87\n",
      "finish lapes:88\n",
      "finish lapes:89\n",
      "finish lapes:90\n",
      "finish lapes:91\n",
      "finish lapes:92\n",
      "finish lapes:93\n",
      "finish lapes:94\n",
      "finish lapes:95\n",
      "finish lapes:96\n",
      "finish lapes:97\n",
      "finish lapes:98\n",
      "finish lapes:99\n",
      "finish lapes:100\n",
      "finish lapes:101\n",
      "finish lapes:102\n",
      "finish lapes:103\n",
      "finish lapes:104\n",
      "finish lapes:105\n",
      "finish lapes:106\n",
      "finish lapes:107\n",
      "finish lapes:108\n",
      "finish lapes:109\n",
      "finish lapes:110\n",
      "finish lapes:111\n",
      "finish lapes:112\n",
      "finish lapes:113\n",
      "finish lapes:114\n",
      "finish lapes:115\n",
      "finish lapes:116\n",
      "finish lapes:117\n",
      "finish lapes:118\n",
      "finish lapes:119\n",
      "finish lapes:120\n",
      "finish lapes:121\n",
      "finish lapes:122\n",
      "finish lapes:123\n",
      "finish lapes:124\n",
      "finish lapes:125\n",
      "finish lapes:126\n",
      "finish lapes:127\n",
      "finish lapes:128\n",
      "finish lapes:129\n",
      "finish lapes:130\n",
      "finish lapes:131\n",
      "finish lapes:132\n",
      "finish lapes:133\n",
      "finish lapes:134\n",
      "finish lapes:135\n",
      "finish lapes:136\n",
      "finish lapes:137\n",
      "finish lapes:138\n",
      "finish lapes:139\n",
      "finish lapes:140\n",
      "finish lapes:141\n",
      "finish lapes:142\n",
      "finish lapes:143\n",
      "finish lapes:144\n",
      "finish lapes:145\n",
      "finish lapes:146\n",
      "finish lapes:147\n",
      "finish lapes:148\n",
      "finish lapes:149\n",
      "finish lapes:150\n",
      "finish lapes:151\n",
      "finish lapes:152\n",
      "finish lapes:153\n",
      "finish lapes:154\n",
      "finish lapes:155\n",
      "finish lapes:156\n",
      "finish lapes:157\n",
      "finish lapes:158\n",
      "finish lapes:159\n",
      "finish lapes:160\n",
      "finish lapes:161\n",
      "finish lapes:162\n",
      "finish lapes:163\n",
      "finish lapes:164\n",
      "finish lapes:165\n",
      "finish lapes:166\n",
      "finish lapes:167\n",
      "finish lapes:168\n",
      "finish lapes:169\n",
      "finish lapes:170\n",
      "finish lapes:171\n",
      "finish lapes:172\n",
      "finish lapes:173\n",
      "finish lapes:174\n",
      "finish lapes:175\n",
      "finish lapes:176\n",
      "finish lapes:177\n",
      "finish lapes:178\n",
      "finish lapes:179\n",
      "finish lapes:180\n",
      "finish lapes:181\n",
      "finish lapes:182\n",
      "finish lapes:183\n",
      "finish lapes:184\n",
      "finish lapes:185\n",
      "finish lapes:186\n",
      "finish lapes:187\n",
      "finish lapes:188\n",
      "finish lapes:189\n",
      "finish lapes:190\n",
      "finish lapes:191\n",
      "finish lapes:192\n",
      "finish lapes:193\n",
      "finish lapes:194\n",
      "finish lapes:195\n",
      "finish lapes:196\n",
      "finish lapes:197\n",
      "finish lapes:198\n",
      "finish lapes:199\n",
      "finish lapes:200\n"
     ]
    }
   ],
   "source": [
    "import time\n",
    "t = []\n",
    "keys = []\n",
    "for s in range (1,201):\n",
    "    temp = dataset[4].copy()\n",
    "    t_start = time.time()\n",
    "    key = merge_sort_hybrid(temp,0,len(dataset[4])-1,s)\n",
    "    t_stop = time.time()\n",
    "    keys.append(key)\n",
    "    t.append(t_stop-t_start)\n",
    "    print(f\"finish lapes:{s}\")\n"
   ]
  },
  {
   "cell_type": "code",
   "execution_count": null,
   "metadata": {},
   "outputs": [
    {
     "data": {
      "application/vnd.plotly.v1+json": {
       "config": {
        "plotlyServerURL": "https://plot.ly"
       },
       "data": [
        {
         "hovertemplate": "s=%{x}<br>times=%{y}<extra></extra>",
         "legendgroup": "",
         "line": {
          "color": "#636efa",
          "dash": "solid"
         },
         "marker": {
          "symbol": "circle"
         },
         "mode": "lines",
         "name": "",
         "orientation": "v",
         "showlegend": false,
         "type": "scatter",
         "x": [
          1,
          2,
          3,
          4,
          5,
          6,
          7,
          8,
          9,
          10,
          11,
          12,
          13,
          14,
          15,
          16,
          17,
          18,
          19,
          20,
          21,
          22,
          23,
          24,
          25,
          26,
          27,
          28,
          29,
          30,
          31,
          32,
          33,
          34,
          35,
          36,
          37,
          38,
          39,
          40,
          41,
          42,
          43,
          44,
          45,
          46,
          47,
          48,
          49,
          50,
          51,
          52,
          53,
          54,
          55,
          56,
          57,
          58,
          59,
          60,
          61,
          62,
          63,
          64,
          65,
          66,
          67,
          68,
          69,
          70,
          71,
          72,
          73,
          74,
          75,
          76,
          77,
          78,
          79,
          80,
          81,
          82,
          83,
          84,
          85,
          86,
          87,
          88,
          89,
          90,
          91,
          92,
          93,
          94,
          95,
          96,
          97,
          98,
          99,
          100,
          101,
          102,
          103,
          104,
          105,
          106,
          107,
          108,
          109,
          110,
          111,
          112,
          113,
          114,
          115,
          116,
          117,
          118,
          119,
          120,
          121,
          122,
          123,
          124,
          125,
          126,
          127,
          128,
          129,
          130,
          131,
          132,
          133,
          134,
          135,
          136,
          137,
          138,
          139,
          140,
          141,
          142,
          143,
          144,
          145,
          146,
          147,
          148,
          149,
          150,
          151,
          152,
          153,
          154,
          155,
          156,
          157,
          158,
          159,
          160,
          161,
          162,
          163,
          164,
          165,
          166,
          167,
          168,
          169,
          170,
          171,
          172,
          173,
          174,
          175,
          176,
          177,
          178,
          179,
          180,
          181,
          182,
          183,
          184,
          185,
          186,
          187,
          188,
          189,
          190,
          191,
          192,
          193,
          194,
          195,
          196,
          197,
          198,
          199,
          200
         ],
         "xaxis": "x",
         "y": [
          0.4015140000001338,
          0.3908966999997574,
          0.3668660999996973,
          0.34424540000009074,
          0.33503620000010415,
          0.3237085999999181,
          0.31699369999978444,
          0.3110767000002852,
          0.31776259999969625,
          0.31274619999976494,
          0.36969009999984337,
          0.3161651000000347,
          0.3290686000000278,
          0.3267863999999463,
          0.3176628000001074,
          0.32685970000011366,
          0.3371704999999565,
          0.3119507999999769,
          0.3172424999997929,
          0.32788360000040484,
          0.31879879999996774,
          0.32668839999996635,
          0.3155609000000368,
          0.3385988999998517,
          0.3358444000000418,
          0.35760179999988395,
          0.36036049999984243,
          0.36915780000026643,
          0.3837687999998707,
          0.3893940000002658,
          0.4122085000003608,
          0.4082188000002134,
          0.3578863999996429,
          0.360413900000367,
          0.3527774999997746,
          0.3458738000003905,
          0.37918779999972685,
          0.3450110999997378,
          0.3658212000000276,
          0.3744931999999608,
          0.3524330000000191,
          0.3481701000000612,
          0.4182693000002473,
          0.3621495000002142,
          0.3528830000000198,
          0.3730315999996492,
          0.34796040000037465,
          0.3714993000003233,
          0.42150249999986045,
          0.45630309999978635,
          0.4362166000000798,
          0.4014769999998862,
          0.43068810000022495,
          0.4375983999998425,
          0.42390590000013617,
          0.45260929999994914,
          0.42134919999989506,
          0.4363698000001932,
          0.4343696999999338,
          0.45621909999999843,
          0.4354425999999876,
          0.4271131000000423,
          0.4681252000000313,
          0.4699642999999014,
          0.4321218999998564,
          0.4658564999999726,
          0.4306728999999905,
          0.45566429999962565,
          0.416830299999674,
          0.426659500000369,
          0.4228475999998409,
          0.4212307000002511,
          0.42476200000010067,
          0.5416521000001921,
          0.4297239000002264,
          0.4634880999997222,
          0.4554529000001821,
          0.4563098999997237,
          0.43630839999968885,
          0.4680115000001024,
          0.42218410000032236,
          0.4284119999997529,
          0.467679699999735,
          0.45724150000023656,
          0.45747360000041226,
          0.4354705999999169,
          0.4632799000000887,
          0.4515118999997867,
          0.4599091000000044,
          0.46445089999997435,
          0.48001560000011523,
          0.4633555000000342,
          0.4507340000000113,
          0.4477375999999822,
          0.4511885000001712,
          0.4490587999998752,
          0.5072143999996115,
          0.652806099999907,
          0.6435596000001169,
          0.6428332999998929,
          0.6592021999999815,
          0.6490778000002138,
          0.6585783999998966,
          0.5855623000002197,
          0.682771099999627,
          0.7041806000001998,
          0.7148956999999427,
          0.7680731999998898,
          0.6939499000000069,
          0.7337551000000531,
          0.7953653999998096,
          0.7037510000000111,
          0.6786559000001944,
          0.6818003000003046,
          0.849706000000424,
          0.8397486000003482,
          0.7931176000001869,
          0.6323516000002201,
          0.6801238000002741,
          0.7044332000000395,
          0.6852075000001605,
          0.6750268999999207,
          0.6294502999999168,
          0.6559894000001805,
          0.651295200000277,
          0.6309272000003148,
          0.6356140999996569,
          0.6679137000000992,
          0.7858092999999826,
          0.6385557000003246,
          0.6289604999997209,
          0.6498086999999941,
          0.642152299999907,
          0.6426366000000598,
          0.6539087000001018,
          0.6320631999997204,
          0.7109838000001218,
          0.7228093999997327,
          0.6244956000000457,
          0.6440780000002633,
          0.6776818999996976,
          0.6523849000000155,
          0.633671200000208,
          0.6673498000000109,
          0.8277941000001192,
          0.7716021999999612,
          0.6908183999998982,
          0.6751395999999659,
          0.6978379000001951,
          0.7152267000001302,
          0.7403107000000091,
          0.7028297000001658,
          0.6840857999995933,
          0.6809962000002088,
          0.6483438999998725,
          0.6453397000000223,
          0.6683192000000417,
          0.6262839999999414,
          0.6043343999999706,
          0.6035701000000699,
          0.5961935999998786,
          0.6028845000000729,
          0.616230799999812,
          0.6527627000000393,
          0.6863659999999072,
          0.595914300000004,
          0.6105821999999534,
          0.6243254999999408,
          0.6388310000002093,
          0.6123520999999528,
          0.6399301999999807,
          0.6330102000001716,
          0.6091572000000269,
          0.6274185000002035,
          0.6099782999999661,
          0.5922559000000547,
          0.6014001999997163,
          0.6086675000001378,
          0.6249721999997746,
          0.6119117000002916,
          0.6156812999997783,
          0.6330401000000165,
          0.6051291999997375,
          0.6120844000001853,
          0.5960058000000572,
          0.5892287000001488,
          0.6087219000000914,
          0.5970118000000184,
          0.5998171000001093,
          0.5869889000000512,
          0.6042677999998887,
          0.6104362999999466,
          0.5999104999996234,
          0.6374430999999277,
          0.8700021999998171,
          1.0867613999998866,
          1.0438355000001138,
          1.047786200000246,
          1.0642063000000235,
          1.0957539999999426
         ],
         "yaxis": "y"
        }
       ],
       "layout": {
        "legend": {
         "tracegroupgap": 0
        },
        "template": {
         "data": {
          "bar": [
           {
            "error_x": {
             "color": "#2a3f5f"
            },
            "error_y": {
             "color": "#2a3f5f"
            },
            "marker": {
             "line": {
              "color": "#E5ECF6",
              "width": 0.5
             },
             "pattern": {
              "fillmode": "overlay",
              "size": 10,
              "solidity": 0.2
             }
            },
            "type": "bar"
           }
          ],
          "barpolar": [
           {
            "marker": {
             "line": {
              "color": "#E5ECF6",
              "width": 0.5
             },
             "pattern": {
              "fillmode": "overlay",
              "size": 10,
              "solidity": 0.2
             }
            },
            "type": "barpolar"
           }
          ],
          "carpet": [
           {
            "aaxis": {
             "endlinecolor": "#2a3f5f",
             "gridcolor": "white",
             "linecolor": "white",
             "minorgridcolor": "white",
             "startlinecolor": "#2a3f5f"
            },
            "baxis": {
             "endlinecolor": "#2a3f5f",
             "gridcolor": "white",
             "linecolor": "white",
             "minorgridcolor": "white",
             "startlinecolor": "#2a3f5f"
            },
            "type": "carpet"
           }
          ],
          "choropleth": [
           {
            "colorbar": {
             "outlinewidth": 0,
             "ticks": ""
            },
            "type": "choropleth"
           }
          ],
          "contour": [
           {
            "colorbar": {
             "outlinewidth": 0,
             "ticks": ""
            },
            "colorscale": [
             [
              0,
              "#0d0887"
             ],
             [
              0.1111111111111111,
              "#46039f"
             ],
             [
              0.2222222222222222,
              "#7201a8"
             ],
             [
              0.3333333333333333,
              "#9c179e"
             ],
             [
              0.4444444444444444,
              "#bd3786"
             ],
             [
              0.5555555555555556,
              "#d8576b"
             ],
             [
              0.6666666666666666,
              "#ed7953"
             ],
             [
              0.7777777777777778,
              "#fb9f3a"
             ],
             [
              0.8888888888888888,
              "#fdca26"
             ],
             [
              1,
              "#f0f921"
             ]
            ],
            "type": "contour"
           }
          ],
          "contourcarpet": [
           {
            "colorbar": {
             "outlinewidth": 0,
             "ticks": ""
            },
            "type": "contourcarpet"
           }
          ],
          "heatmap": [
           {
            "colorbar": {
             "outlinewidth": 0,
             "ticks": ""
            },
            "colorscale": [
             [
              0,
              "#0d0887"
             ],
             [
              0.1111111111111111,
              "#46039f"
             ],
             [
              0.2222222222222222,
              "#7201a8"
             ],
             [
              0.3333333333333333,
              "#9c179e"
             ],
             [
              0.4444444444444444,
              "#bd3786"
             ],
             [
              0.5555555555555556,
              "#d8576b"
             ],
             [
              0.6666666666666666,
              "#ed7953"
             ],
             [
              0.7777777777777778,
              "#fb9f3a"
             ],
             [
              0.8888888888888888,
              "#fdca26"
             ],
             [
              1,
              "#f0f921"
             ]
            ],
            "type": "heatmap"
           }
          ],
          "heatmapgl": [
           {
            "colorbar": {
             "outlinewidth": 0,
             "ticks": ""
            },
            "colorscale": [
             [
              0,
              "#0d0887"
             ],
             [
              0.1111111111111111,
              "#46039f"
             ],
             [
              0.2222222222222222,
              "#7201a8"
             ],
             [
              0.3333333333333333,
              "#9c179e"
             ],
             [
              0.4444444444444444,
              "#bd3786"
             ],
             [
              0.5555555555555556,
              "#d8576b"
             ],
             [
              0.6666666666666666,
              "#ed7953"
             ],
             [
              0.7777777777777778,
              "#fb9f3a"
             ],
             [
              0.8888888888888888,
              "#fdca26"
             ],
             [
              1,
              "#f0f921"
             ]
            ],
            "type": "heatmapgl"
           }
          ],
          "histogram": [
           {
            "marker": {
             "pattern": {
              "fillmode": "overlay",
              "size": 10,
              "solidity": 0.2
             }
            },
            "type": "histogram"
           }
          ],
          "histogram2d": [
           {
            "colorbar": {
             "outlinewidth": 0,
             "ticks": ""
            },
            "colorscale": [
             [
              0,
              "#0d0887"
             ],
             [
              0.1111111111111111,
              "#46039f"
             ],
             [
              0.2222222222222222,
              "#7201a8"
             ],
             [
              0.3333333333333333,
              "#9c179e"
             ],
             [
              0.4444444444444444,
              "#bd3786"
             ],
             [
              0.5555555555555556,
              "#d8576b"
             ],
             [
              0.6666666666666666,
              "#ed7953"
             ],
             [
              0.7777777777777778,
              "#fb9f3a"
             ],
             [
              0.8888888888888888,
              "#fdca26"
             ],
             [
              1,
              "#f0f921"
             ]
            ],
            "type": "histogram2d"
           }
          ],
          "histogram2dcontour": [
           {
            "colorbar": {
             "outlinewidth": 0,
             "ticks": ""
            },
            "colorscale": [
             [
              0,
              "#0d0887"
             ],
             [
              0.1111111111111111,
              "#46039f"
             ],
             [
              0.2222222222222222,
              "#7201a8"
             ],
             [
              0.3333333333333333,
              "#9c179e"
             ],
             [
              0.4444444444444444,
              "#bd3786"
             ],
             [
              0.5555555555555556,
              "#d8576b"
             ],
             [
              0.6666666666666666,
              "#ed7953"
             ],
             [
              0.7777777777777778,
              "#fb9f3a"
             ],
             [
              0.8888888888888888,
              "#fdca26"
             ],
             [
              1,
              "#f0f921"
             ]
            ],
            "type": "histogram2dcontour"
           }
          ],
          "mesh3d": [
           {
            "colorbar": {
             "outlinewidth": 0,
             "ticks": ""
            },
            "type": "mesh3d"
           }
          ],
          "parcoords": [
           {
            "line": {
             "colorbar": {
              "outlinewidth": 0,
              "ticks": ""
             }
            },
            "type": "parcoords"
           }
          ],
          "pie": [
           {
            "automargin": true,
            "type": "pie"
           }
          ],
          "scatter": [
           {
            "fillpattern": {
             "fillmode": "overlay",
             "size": 10,
             "solidity": 0.2
            },
            "type": "scatter"
           }
          ],
          "scatter3d": [
           {
            "line": {
             "colorbar": {
              "outlinewidth": 0,
              "ticks": ""
             }
            },
            "marker": {
             "colorbar": {
              "outlinewidth": 0,
              "ticks": ""
             }
            },
            "type": "scatter3d"
           }
          ],
          "scattercarpet": [
           {
            "marker": {
             "colorbar": {
              "outlinewidth": 0,
              "ticks": ""
             }
            },
            "type": "scattercarpet"
           }
          ],
          "scattergeo": [
           {
            "marker": {
             "colorbar": {
              "outlinewidth": 0,
              "ticks": ""
             }
            },
            "type": "scattergeo"
           }
          ],
          "scattergl": [
           {
            "marker": {
             "colorbar": {
              "outlinewidth": 0,
              "ticks": ""
             }
            },
            "type": "scattergl"
           }
          ],
          "scattermapbox": [
           {
            "marker": {
             "colorbar": {
              "outlinewidth": 0,
              "ticks": ""
             }
            },
            "type": "scattermapbox"
           }
          ],
          "scatterpolar": [
           {
            "marker": {
             "colorbar": {
              "outlinewidth": 0,
              "ticks": ""
             }
            },
            "type": "scatterpolar"
           }
          ],
          "scatterpolargl": [
           {
            "marker": {
             "colorbar": {
              "outlinewidth": 0,
              "ticks": ""
             }
            },
            "type": "scatterpolargl"
           }
          ],
          "scatterternary": [
           {
            "marker": {
             "colorbar": {
              "outlinewidth": 0,
              "ticks": ""
             }
            },
            "type": "scatterternary"
           }
          ],
          "surface": [
           {
            "colorbar": {
             "outlinewidth": 0,
             "ticks": ""
            },
            "colorscale": [
             [
              0,
              "#0d0887"
             ],
             [
              0.1111111111111111,
              "#46039f"
             ],
             [
              0.2222222222222222,
              "#7201a8"
             ],
             [
              0.3333333333333333,
              "#9c179e"
             ],
             [
              0.4444444444444444,
              "#bd3786"
             ],
             [
              0.5555555555555556,
              "#d8576b"
             ],
             [
              0.6666666666666666,
              "#ed7953"
             ],
             [
              0.7777777777777778,
              "#fb9f3a"
             ],
             [
              0.8888888888888888,
              "#fdca26"
             ],
             [
              1,
              "#f0f921"
             ]
            ],
            "type": "surface"
           }
          ],
          "table": [
           {
            "cells": {
             "fill": {
              "color": "#EBF0F8"
             },
             "line": {
              "color": "white"
             }
            },
            "header": {
             "fill": {
              "color": "#C8D4E3"
             },
             "line": {
              "color": "white"
             }
            },
            "type": "table"
           }
          ]
         },
         "layout": {
          "annotationdefaults": {
           "arrowcolor": "#2a3f5f",
           "arrowhead": 0,
           "arrowwidth": 1
          },
          "autotypenumbers": "strict",
          "coloraxis": {
           "colorbar": {
            "outlinewidth": 0,
            "ticks": ""
           }
          },
          "colorscale": {
           "diverging": [
            [
             0,
             "#8e0152"
            ],
            [
             0.1,
             "#c51b7d"
            ],
            [
             0.2,
             "#de77ae"
            ],
            [
             0.3,
             "#f1b6da"
            ],
            [
             0.4,
             "#fde0ef"
            ],
            [
             0.5,
             "#f7f7f7"
            ],
            [
             0.6,
             "#e6f5d0"
            ],
            [
             0.7,
             "#b8e186"
            ],
            [
             0.8,
             "#7fbc41"
            ],
            [
             0.9,
             "#4d9221"
            ],
            [
             1,
             "#276419"
            ]
           ],
           "sequential": [
            [
             0,
             "#0d0887"
            ],
            [
             0.1111111111111111,
             "#46039f"
            ],
            [
             0.2222222222222222,
             "#7201a8"
            ],
            [
             0.3333333333333333,
             "#9c179e"
            ],
            [
             0.4444444444444444,
             "#bd3786"
            ],
            [
             0.5555555555555556,
             "#d8576b"
            ],
            [
             0.6666666666666666,
             "#ed7953"
            ],
            [
             0.7777777777777778,
             "#fb9f3a"
            ],
            [
             0.8888888888888888,
             "#fdca26"
            ],
            [
             1,
             "#f0f921"
            ]
           ],
           "sequentialminus": [
            [
             0,
             "#0d0887"
            ],
            [
             0.1111111111111111,
             "#46039f"
            ],
            [
             0.2222222222222222,
             "#7201a8"
            ],
            [
             0.3333333333333333,
             "#9c179e"
            ],
            [
             0.4444444444444444,
             "#bd3786"
            ],
            [
             0.5555555555555556,
             "#d8576b"
            ],
            [
             0.6666666666666666,
             "#ed7953"
            ],
            [
             0.7777777777777778,
             "#fb9f3a"
            ],
            [
             0.8888888888888888,
             "#fdca26"
            ],
            [
             1,
             "#f0f921"
            ]
           ]
          },
          "colorway": [
           "#636efa",
           "#EF553B",
           "#00cc96",
           "#ab63fa",
           "#FFA15A",
           "#19d3f3",
           "#FF6692",
           "#B6E880",
           "#FF97FF",
           "#FECB52"
          ],
          "font": {
           "color": "#2a3f5f"
          },
          "geo": {
           "bgcolor": "white",
           "lakecolor": "white",
           "landcolor": "#E5ECF6",
           "showlakes": true,
           "showland": true,
           "subunitcolor": "white"
          },
          "hoverlabel": {
           "align": "left"
          },
          "hovermode": "closest",
          "mapbox": {
           "style": "light"
          },
          "paper_bgcolor": "white",
          "plot_bgcolor": "#E5ECF6",
          "polar": {
           "angularaxis": {
            "gridcolor": "white",
            "linecolor": "white",
            "ticks": ""
           },
           "bgcolor": "#E5ECF6",
           "radialaxis": {
            "gridcolor": "white",
            "linecolor": "white",
            "ticks": ""
           }
          },
          "scene": {
           "xaxis": {
            "backgroundcolor": "#E5ECF6",
            "gridcolor": "white",
            "gridwidth": 2,
            "linecolor": "white",
            "showbackground": true,
            "ticks": "",
            "zerolinecolor": "white"
           },
           "yaxis": {
            "backgroundcolor": "#E5ECF6",
            "gridcolor": "white",
            "gridwidth": 2,
            "linecolor": "white",
            "showbackground": true,
            "ticks": "",
            "zerolinecolor": "white"
           },
           "zaxis": {
            "backgroundcolor": "#E5ECF6",
            "gridcolor": "white",
            "gridwidth": 2,
            "linecolor": "white",
            "showbackground": true,
            "ticks": "",
            "zerolinecolor": "white"
           }
          },
          "shapedefaults": {
           "line": {
            "color": "#2a3f5f"
           }
          },
          "ternary": {
           "aaxis": {
            "gridcolor": "white",
            "linecolor": "white",
            "ticks": ""
           },
           "baxis": {
            "gridcolor": "white",
            "linecolor": "white",
            "ticks": ""
           },
           "bgcolor": "#E5ECF6",
           "caxis": {
            "gridcolor": "white",
            "linecolor": "white",
            "ticks": ""
           }
          },
          "title": {
           "x": 0.05
          },
          "xaxis": {
           "automargin": true,
           "gridcolor": "white",
           "linecolor": "white",
           "ticks": "",
           "title": {
            "standoff": 15
           },
           "zerolinecolor": "white",
           "zerolinewidth": 2
          },
          "yaxis": {
           "automargin": true,
           "gridcolor": "white",
           "linecolor": "white",
           "ticks": "",
           "title": {
            "standoff": 15
           },
           "zerolinecolor": "white",
           "zerolinewidth": 2
          }
         }
        },
        "title": {
         "text": "Time Complexity For Each S"
        },
        "xaxis": {
         "anchor": "y",
         "domain": [
          0,
          1
         ],
         "title": {
          "text": "s"
         }
        },
        "yaxis": {
         "anchor": "x",
         "domain": [
          0,
          1
         ],
         "title": {
          "text": "times"
         }
        }
       }
      }
     },
     "metadata": {},
     "output_type": "display_data"
    }
   ],
   "source": [
    "# optimal S for 100,000\n",
    "s = list(range(1, 201))\n",
    "df = pd.DataFrame({\"times\":t, \"keys\" : keys, \"s\":s})\n",
    "fig = px.line(df, x=\"s\", y=\"times\", title='Time Complexity For Each S')\n",
    "fig.show()\n"
   ]
  },
  {
   "cell_type": "code",
   "execution_count": 19,
   "metadata": {},
   "outputs": [
    {
     "name": "stdout",
     "output_type": "stream",
     "text": [
      "optimal s is 8\n"
     ]
    }
   ],
   "source": [
    "print(f\"optimal s is {t.index(min(t))+1}\")"
   ]
  },
  {
   "cell_type": "code",
   "execution_count": 20,
   "metadata": {},
   "outputs": [
    {
     "name": "stdout",
     "output_type": "stream",
     "text": [
      "finish lapes:1\n",
      "finish lapes:2\n",
      "finish lapes:3\n",
      "finish lapes:4\n",
      "finish lapes:5\n",
      "finish lapes:6\n",
      "finish lapes:7\n",
      "finish lapes:8\n",
      "finish lapes:9\n",
      "finish lapes:10\n",
      "finish lapes:11\n",
      "finish lapes:12\n",
      "finish lapes:13\n",
      "finish lapes:14\n",
      "finish lapes:15\n",
      "finish lapes:16\n",
      "finish lapes:17\n",
      "finish lapes:18\n",
      "finish lapes:19\n",
      "finish lapes:20\n",
      "finish lapes:21\n",
      "finish lapes:22\n",
      "finish lapes:23\n",
      "finish lapes:24\n",
      "finish lapes:25\n",
      "finish lapes:26\n",
      "finish lapes:27\n",
      "finish lapes:28\n",
      "finish lapes:29\n",
      "finish lapes:30\n",
      "finish lapes:31\n",
      "finish lapes:32\n",
      "finish lapes:33\n",
      "finish lapes:34\n",
      "finish lapes:35\n",
      "finish lapes:36\n",
      "finish lapes:37\n",
      "finish lapes:38\n",
      "finish lapes:39\n",
      "finish lapes:40\n",
      "finish lapes:41\n",
      "finish lapes:42\n",
      "finish lapes:43\n",
      "finish lapes:44\n",
      "finish lapes:45\n",
      "finish lapes:46\n",
      "finish lapes:47\n",
      "finish lapes:48\n",
      "finish lapes:49\n",
      "finish lapes:50\n",
      "finish lapes:51\n",
      "finish lapes:52\n",
      "finish lapes:53\n",
      "finish lapes:54\n",
      "finish lapes:55\n",
      "finish lapes:56\n",
      "finish lapes:57\n",
      "finish lapes:58\n",
      "finish lapes:59\n",
      "finish lapes:60\n",
      "finish lapes:61\n",
      "finish lapes:62\n",
      "finish lapes:63\n",
      "finish lapes:64\n",
      "finish lapes:65\n",
      "finish lapes:66\n",
      "finish lapes:67\n",
      "finish lapes:68\n",
      "finish lapes:69\n",
      "finish lapes:70\n",
      "finish lapes:71\n",
      "finish lapes:72\n",
      "finish lapes:73\n",
      "finish lapes:74\n",
      "finish lapes:75\n",
      "finish lapes:76\n",
      "finish lapes:77\n",
      "finish lapes:78\n",
      "finish lapes:79\n",
      "finish lapes:80\n",
      "finish lapes:81\n",
      "finish lapes:82\n",
      "finish lapes:83\n",
      "finish lapes:84\n",
      "finish lapes:85\n",
      "finish lapes:86\n",
      "finish lapes:87\n",
      "finish lapes:88\n",
      "finish lapes:89\n",
      "finish lapes:90\n",
      "finish lapes:91\n",
      "finish lapes:92\n",
      "finish lapes:93\n",
      "finish lapes:94\n",
      "finish lapes:95\n",
      "finish lapes:96\n",
      "finish lapes:97\n",
      "finish lapes:98\n",
      "finish lapes:99\n",
      "finish lapes:100\n",
      "finish lapes:101\n",
      "finish lapes:102\n",
      "finish lapes:103\n",
      "finish lapes:104\n",
      "finish lapes:105\n",
      "finish lapes:106\n",
      "finish lapes:107\n",
      "finish lapes:108\n",
      "finish lapes:109\n",
      "finish lapes:110\n",
      "finish lapes:111\n",
      "finish lapes:112\n",
      "finish lapes:113\n",
      "finish lapes:114\n",
      "finish lapes:115\n",
      "finish lapes:116\n",
      "finish lapes:117\n",
      "finish lapes:118\n",
      "finish lapes:119\n",
      "finish lapes:120\n",
      "finish lapes:121\n",
      "finish lapes:122\n",
      "finish lapes:123\n",
      "finish lapes:124\n",
      "finish lapes:125\n",
      "finish lapes:126\n",
      "finish lapes:127\n",
      "finish lapes:128\n",
      "finish lapes:129\n",
      "finish lapes:130\n",
      "finish lapes:131\n",
      "finish lapes:132\n",
      "finish lapes:133\n",
      "finish lapes:134\n",
      "finish lapes:135\n",
      "finish lapes:136\n",
      "finish lapes:137\n",
      "finish lapes:138\n",
      "finish lapes:139\n",
      "finish lapes:140\n",
      "finish lapes:141\n",
      "finish lapes:142\n",
      "finish lapes:143\n",
      "finish lapes:144\n",
      "finish lapes:145\n",
      "finish lapes:146\n",
      "finish lapes:147\n",
      "finish lapes:148\n",
      "finish lapes:149\n",
      "finish lapes:150\n",
      "finish lapes:151\n",
      "finish lapes:152\n",
      "finish lapes:153\n",
      "finish lapes:154\n",
      "finish lapes:155\n",
      "finish lapes:156\n",
      "finish lapes:157\n",
      "finish lapes:158\n",
      "finish lapes:159\n",
      "finish lapes:160\n",
      "finish lapes:161\n",
      "finish lapes:162\n",
      "finish lapes:163\n",
      "finish lapes:164\n",
      "finish lapes:165\n",
      "finish lapes:166\n",
      "finish lapes:167\n",
      "finish lapes:168\n",
      "finish lapes:169\n",
      "finish lapes:170\n",
      "finish lapes:171\n",
      "finish lapes:172\n",
      "finish lapes:173\n",
      "finish lapes:174\n",
      "finish lapes:175\n",
      "finish lapes:176\n",
      "finish lapes:177\n",
      "finish lapes:178\n",
      "finish lapes:179\n",
      "finish lapes:180\n",
      "finish lapes:181\n",
      "finish lapes:182\n",
      "finish lapes:183\n",
      "finish lapes:184\n",
      "finish lapes:185\n",
      "finish lapes:186\n",
      "finish lapes:187\n",
      "finish lapes:188\n",
      "finish lapes:189\n",
      "finish lapes:190\n",
      "finish lapes:191\n",
      "finish lapes:192\n",
      "finish lapes:193\n",
      "finish lapes:194\n",
      "finish lapes:195\n",
      "finish lapes:196\n",
      "finish lapes:197\n",
      "finish lapes:198\n",
      "finish lapes:199\n",
      "finish lapes:200\n"
     ]
    }
   ],
   "source": [
    "t = []\n",
    "keys = []\n",
    "for s in range (1,201):\n",
    "    temp = dataset[5].copy()\n",
    "    t_start = time.time()\n",
    "    key = merge_sort_hybrid(temp,0,len(dataset[5])-1,s)\n",
    "    t_stop = time.time()\n",
    "    keys.append(key)\n",
    "    t.append(t_stop-t_start)\n",
    "    print(f\"finish lapes:{s}\")"
   ]
  },
  {
   "cell_type": "code",
   "execution_count": 21,
   "metadata": {},
   "outputs": [
    {
     "data": {
      "application/vnd.plotly.v1+json": {
       "config": {
        "plotlyServerURL": "https://plot.ly"
       },
       "data": [
        {
         "hovertemplate": "s=%{x}<br>times=%{y}<extra></extra>",
         "legendgroup": "",
         "line": {
          "color": "#636efa",
          "dash": "solid"
         },
         "marker": {
          "symbol": "circle"
         },
         "mode": "lines",
         "name": "",
         "orientation": "v",
         "showlegend": false,
         "type": "scatter",
         "x": [
          1,
          2,
          3,
          4,
          5,
          6,
          7,
          8,
          9,
          10,
          11,
          12,
          13,
          14,
          15,
          16,
          17,
          18,
          19,
          20,
          21,
          22,
          23,
          24,
          25,
          26,
          27,
          28,
          29,
          30,
          31,
          32,
          33,
          34,
          35,
          36,
          37,
          38,
          39,
          40,
          41,
          42,
          43,
          44,
          45,
          46,
          47,
          48,
          49,
          50,
          51,
          52,
          53,
          54,
          55,
          56,
          57,
          58,
          59,
          60,
          61,
          62,
          63,
          64,
          65,
          66,
          67,
          68,
          69,
          70,
          71,
          72,
          73,
          74,
          75,
          76,
          77,
          78,
          79,
          80,
          81,
          82,
          83,
          84,
          85,
          86,
          87,
          88,
          89,
          90,
          91,
          92,
          93,
          94,
          95,
          96,
          97,
          98,
          99,
          100,
          101,
          102,
          103,
          104,
          105,
          106,
          107,
          108,
          109,
          110,
          111,
          112,
          113,
          114,
          115,
          116,
          117,
          118,
          119,
          120,
          121,
          122,
          123,
          124,
          125,
          126,
          127,
          128,
          129,
          130,
          131,
          132,
          133,
          134,
          135,
          136,
          137,
          138,
          139,
          140,
          141,
          142,
          143,
          144,
          145,
          146,
          147,
          148,
          149,
          150,
          151,
          152,
          153,
          154,
          155,
          156,
          157,
          158,
          159,
          160,
          161,
          162,
          163,
          164,
          165,
          166,
          167,
          168,
          169,
          170,
          171,
          172,
          173,
          174,
          175,
          176,
          177,
          178,
          179,
          180,
          181,
          182,
          183,
          184,
          185,
          186,
          187,
          188,
          189,
          190,
          191,
          192,
          193,
          194,
          195,
          196,
          197,
          198,
          199,
          200
         ],
         "xaxis": "x",
         "y": [
          5.35439658164978,
          5.370013475418091,
          5.1617186069488525,
          4.998170852661133,
          5.156361103057861,
          4.999049663543701,
          5.013536691665649,
          5.245250463485718,
          5.421398639678955,
          4.9775872230529785,
          5.1391870975494385,
          4.845565319061279,
          4.98319149017334,
          5.018871068954468,
          5.05686354637146,
          5.016229629516602,
          5.0346808433532715,
          5.0945024490356445,
          5.117037534713745,
          5.036196231842041,
          5.097967147827148,
          5.077550649642944,
          5.091861009597778,
          5.591334581375122,
          5.5901780128479,
          5.437138080596924,
          5.123166561126709,
          4.964324474334717,
          4.954272747039795,
          5.105284929275513,
          5.563135147094727,
          5.292878866195679,
          5.360305547714233,
          5.3773345947265625,
          5.425861597061157,
          5.3851318359375,
          5.516355991363525,
          5.2770164012908936,
          5.745492458343506,
          5.648162126541138,
          5.483596324920654,
          5.327157258987427,
          5.257374048233032,
          5.446320295333862,
          5.578618049621582,
          5.504681587219238,
          5.903907299041748,
          5.603826999664307,
          5.7926976680755615,
          5.656558036804199,
          5.542619943618774,
          5.639837026596069,
          5.722419261932373,
          5.716110944747925,
          5.740870237350464,
          5.690176486968994,
          5.548384428024292,
          5.656734943389893,
          5.5963311195373535,
          5.787813663482666,
          6.7276246547698975,
          6.605685472488403,
          6.5859386920928955,
          6.575215816497803,
          6.422999143600464,
          6.397773027420044,
          6.691802024841309,
          6.931249618530273,
          6.776868104934692,
          7.441134929656982,
          6.915386438369751,
          6.324498891830444,
          7.343240022659302,
          6.462846755981445,
          6.636526823043823,
          7.193566083908081,
          7.024395704269409,
          7.617642641067505,
          6.843142747879028,
          7.251328945159912,
          6.6208295822143555,
          7.213765621185303,
          6.865800142288208,
          6.80815863609314,
          6.766992092132568,
          7.1200644969940186,
          6.576200485229492,
          6.8641955852508545,
          7.033156156539917,
          6.912657737731934,
          6.770195722579956,
          6.936901807785034,
          6.923550844192505,
          6.902552127838135,
          6.921953201293945,
          6.461546182632446,
          6.733829975128174,
          6.561177968978882,
          6.606439113616943,
          6.585195541381836,
          6.588078498840332,
          6.671867370605469,
          6.328219413757324,
          6.729982376098633,
          7.259451150894165,
          7.980726480484009,
          6.478337049484253,
          6.597467660903931,
          7.310725212097168,
          6.624487638473511,
          6.927995681762695,
          6.585819959640503,
          6.710236072540283,
          7.299031496047974,
          6.560896873474121,
          6.733668565750122,
          7.973170042037964,
          6.962618112564087,
          6.585749864578247,
          6.533254384994507,
          7.223761081695557,
          8.713716268539429,
          9.464389562606812,
          8.91671371459961,
          9.183894395828247,
          9.114521265029907,
          9.457617998123169,
          9.658580303192139,
          8.858000755310059,
          8.80455994606018,
          8.965012550354004,
          8.794856071472168,
          10.134655952453613,
          10.044564247131348,
          9.967209577560425,
          9.529806852340698,
          9.263807535171509,
          8.260945320129395,
          9.831689596176147,
          9.19574522972107,
          8.997518539428711,
          8.88660192489624,
          8.689341306686401,
          9.284126043319702,
          9.470556735992432,
          8.59786081314087,
          8.360752582550049,
          8.315317392349243,
          8.383768081665039,
          8.69027042388916,
          8.36117696762085,
          8.29138445854187,
          8.50194525718689,
          8.483867406845093,
          8.782886266708374,
          8.324337005615234,
          8.354149580001831,
          8.474416017532349,
          8.329060554504395,
          8.69495177268982,
          8.36373257637024,
          8.373783111572266,
          8.470871210098267,
          8.429200172424316,
          8.34454345703125,
          8.365365028381348,
          8.363922357559204,
          8.340685606002808,
          8.348598718643188,
          9.126509189605713,
          8.249685525894165,
          8.109400272369385,
          8.066402673721313,
          8.192199468612671,
          8.141863346099854,
          8.181411266326904,
          8.168251752853394,
          8.158650636672974,
          8.065742254257202,
          8.245134115219116,
          8.178723812103271,
          8.111496686935425,
          8.0640869140625,
          8.131216764450073,
          8.031758069992065,
          8.113565683364868,
          8.096068382263184,
          8.158543825149536,
          8.119732856750488,
          8.079200983047485,
          8.309494495391846,
          8.138247728347778,
          8.421419143676758,
          8.069680452346802,
          8.100417613983154,
          8.098729610443115,
          8.04572868347168,
          8.211796045303345,
          8.330173969268799,
          8.101325511932373
         ],
         "yaxis": "y"
        }
       ],
       "layout": {
        "legend": {
         "tracegroupgap": 0
        },
        "template": {
         "data": {
          "bar": [
           {
            "error_x": {
             "color": "#2a3f5f"
            },
            "error_y": {
             "color": "#2a3f5f"
            },
            "marker": {
             "line": {
              "color": "#E5ECF6",
              "width": 0.5
             },
             "pattern": {
              "fillmode": "overlay",
              "size": 10,
              "solidity": 0.2
             }
            },
            "type": "bar"
           }
          ],
          "barpolar": [
           {
            "marker": {
             "line": {
              "color": "#E5ECF6",
              "width": 0.5
             },
             "pattern": {
              "fillmode": "overlay",
              "size": 10,
              "solidity": 0.2
             }
            },
            "type": "barpolar"
           }
          ],
          "carpet": [
           {
            "aaxis": {
             "endlinecolor": "#2a3f5f",
             "gridcolor": "white",
             "linecolor": "white",
             "minorgridcolor": "white",
             "startlinecolor": "#2a3f5f"
            },
            "baxis": {
             "endlinecolor": "#2a3f5f",
             "gridcolor": "white",
             "linecolor": "white",
             "minorgridcolor": "white",
             "startlinecolor": "#2a3f5f"
            },
            "type": "carpet"
           }
          ],
          "choropleth": [
           {
            "colorbar": {
             "outlinewidth": 0,
             "ticks": ""
            },
            "type": "choropleth"
           }
          ],
          "contour": [
           {
            "colorbar": {
             "outlinewidth": 0,
             "ticks": ""
            },
            "colorscale": [
             [
              0,
              "#0d0887"
             ],
             [
              0.1111111111111111,
              "#46039f"
             ],
             [
              0.2222222222222222,
              "#7201a8"
             ],
             [
              0.3333333333333333,
              "#9c179e"
             ],
             [
              0.4444444444444444,
              "#bd3786"
             ],
             [
              0.5555555555555556,
              "#d8576b"
             ],
             [
              0.6666666666666666,
              "#ed7953"
             ],
             [
              0.7777777777777778,
              "#fb9f3a"
             ],
             [
              0.8888888888888888,
              "#fdca26"
             ],
             [
              1,
              "#f0f921"
             ]
            ],
            "type": "contour"
           }
          ],
          "contourcarpet": [
           {
            "colorbar": {
             "outlinewidth": 0,
             "ticks": ""
            },
            "type": "contourcarpet"
           }
          ],
          "heatmap": [
           {
            "colorbar": {
             "outlinewidth": 0,
             "ticks": ""
            },
            "colorscale": [
             [
              0,
              "#0d0887"
             ],
             [
              0.1111111111111111,
              "#46039f"
             ],
             [
              0.2222222222222222,
              "#7201a8"
             ],
             [
              0.3333333333333333,
              "#9c179e"
             ],
             [
              0.4444444444444444,
              "#bd3786"
             ],
             [
              0.5555555555555556,
              "#d8576b"
             ],
             [
              0.6666666666666666,
              "#ed7953"
             ],
             [
              0.7777777777777778,
              "#fb9f3a"
             ],
             [
              0.8888888888888888,
              "#fdca26"
             ],
             [
              1,
              "#f0f921"
             ]
            ],
            "type": "heatmap"
           }
          ],
          "heatmapgl": [
           {
            "colorbar": {
             "outlinewidth": 0,
             "ticks": ""
            },
            "colorscale": [
             [
              0,
              "#0d0887"
             ],
             [
              0.1111111111111111,
              "#46039f"
             ],
             [
              0.2222222222222222,
              "#7201a8"
             ],
             [
              0.3333333333333333,
              "#9c179e"
             ],
             [
              0.4444444444444444,
              "#bd3786"
             ],
             [
              0.5555555555555556,
              "#d8576b"
             ],
             [
              0.6666666666666666,
              "#ed7953"
             ],
             [
              0.7777777777777778,
              "#fb9f3a"
             ],
             [
              0.8888888888888888,
              "#fdca26"
             ],
             [
              1,
              "#f0f921"
             ]
            ],
            "type": "heatmapgl"
           }
          ],
          "histogram": [
           {
            "marker": {
             "pattern": {
              "fillmode": "overlay",
              "size": 10,
              "solidity": 0.2
             }
            },
            "type": "histogram"
           }
          ],
          "histogram2d": [
           {
            "colorbar": {
             "outlinewidth": 0,
             "ticks": ""
            },
            "colorscale": [
             [
              0,
              "#0d0887"
             ],
             [
              0.1111111111111111,
              "#46039f"
             ],
             [
              0.2222222222222222,
              "#7201a8"
             ],
             [
              0.3333333333333333,
              "#9c179e"
             ],
             [
              0.4444444444444444,
              "#bd3786"
             ],
             [
              0.5555555555555556,
              "#d8576b"
             ],
             [
              0.6666666666666666,
              "#ed7953"
             ],
             [
              0.7777777777777778,
              "#fb9f3a"
             ],
             [
              0.8888888888888888,
              "#fdca26"
             ],
             [
              1,
              "#f0f921"
             ]
            ],
            "type": "histogram2d"
           }
          ],
          "histogram2dcontour": [
           {
            "colorbar": {
             "outlinewidth": 0,
             "ticks": ""
            },
            "colorscale": [
             [
              0,
              "#0d0887"
             ],
             [
              0.1111111111111111,
              "#46039f"
             ],
             [
              0.2222222222222222,
              "#7201a8"
             ],
             [
              0.3333333333333333,
              "#9c179e"
             ],
             [
              0.4444444444444444,
              "#bd3786"
             ],
             [
              0.5555555555555556,
              "#d8576b"
             ],
             [
              0.6666666666666666,
              "#ed7953"
             ],
             [
              0.7777777777777778,
              "#fb9f3a"
             ],
             [
              0.8888888888888888,
              "#fdca26"
             ],
             [
              1,
              "#f0f921"
             ]
            ],
            "type": "histogram2dcontour"
           }
          ],
          "mesh3d": [
           {
            "colorbar": {
             "outlinewidth": 0,
             "ticks": ""
            },
            "type": "mesh3d"
           }
          ],
          "parcoords": [
           {
            "line": {
             "colorbar": {
              "outlinewidth": 0,
              "ticks": ""
             }
            },
            "type": "parcoords"
           }
          ],
          "pie": [
           {
            "automargin": true,
            "type": "pie"
           }
          ],
          "scatter": [
           {
            "fillpattern": {
             "fillmode": "overlay",
             "size": 10,
             "solidity": 0.2
            },
            "type": "scatter"
           }
          ],
          "scatter3d": [
           {
            "line": {
             "colorbar": {
              "outlinewidth": 0,
              "ticks": ""
             }
            },
            "marker": {
             "colorbar": {
              "outlinewidth": 0,
              "ticks": ""
             }
            },
            "type": "scatter3d"
           }
          ],
          "scattercarpet": [
           {
            "marker": {
             "colorbar": {
              "outlinewidth": 0,
              "ticks": ""
             }
            },
            "type": "scattercarpet"
           }
          ],
          "scattergeo": [
           {
            "marker": {
             "colorbar": {
              "outlinewidth": 0,
              "ticks": ""
             }
            },
            "type": "scattergeo"
           }
          ],
          "scattergl": [
           {
            "marker": {
             "colorbar": {
              "outlinewidth": 0,
              "ticks": ""
             }
            },
            "type": "scattergl"
           }
          ],
          "scattermapbox": [
           {
            "marker": {
             "colorbar": {
              "outlinewidth": 0,
              "ticks": ""
             }
            },
            "type": "scattermapbox"
           }
          ],
          "scatterpolar": [
           {
            "marker": {
             "colorbar": {
              "outlinewidth": 0,
              "ticks": ""
             }
            },
            "type": "scatterpolar"
           }
          ],
          "scatterpolargl": [
           {
            "marker": {
             "colorbar": {
              "outlinewidth": 0,
              "ticks": ""
             }
            },
            "type": "scatterpolargl"
           }
          ],
          "scatterternary": [
           {
            "marker": {
             "colorbar": {
              "outlinewidth": 0,
              "ticks": ""
             }
            },
            "type": "scatterternary"
           }
          ],
          "surface": [
           {
            "colorbar": {
             "outlinewidth": 0,
             "ticks": ""
            },
            "colorscale": [
             [
              0,
              "#0d0887"
             ],
             [
              0.1111111111111111,
              "#46039f"
             ],
             [
              0.2222222222222222,
              "#7201a8"
             ],
             [
              0.3333333333333333,
              "#9c179e"
             ],
             [
              0.4444444444444444,
              "#bd3786"
             ],
             [
              0.5555555555555556,
              "#d8576b"
             ],
             [
              0.6666666666666666,
              "#ed7953"
             ],
             [
              0.7777777777777778,
              "#fb9f3a"
             ],
             [
              0.8888888888888888,
              "#fdca26"
             ],
             [
              1,
              "#f0f921"
             ]
            ],
            "type": "surface"
           }
          ],
          "table": [
           {
            "cells": {
             "fill": {
              "color": "#EBF0F8"
             },
             "line": {
              "color": "white"
             }
            },
            "header": {
             "fill": {
              "color": "#C8D4E3"
             },
             "line": {
              "color": "white"
             }
            },
            "type": "table"
           }
          ]
         },
         "layout": {
          "annotationdefaults": {
           "arrowcolor": "#2a3f5f",
           "arrowhead": 0,
           "arrowwidth": 1
          },
          "autotypenumbers": "strict",
          "coloraxis": {
           "colorbar": {
            "outlinewidth": 0,
            "ticks": ""
           }
          },
          "colorscale": {
           "diverging": [
            [
             0,
             "#8e0152"
            ],
            [
             0.1,
             "#c51b7d"
            ],
            [
             0.2,
             "#de77ae"
            ],
            [
             0.3,
             "#f1b6da"
            ],
            [
             0.4,
             "#fde0ef"
            ],
            [
             0.5,
             "#f7f7f7"
            ],
            [
             0.6,
             "#e6f5d0"
            ],
            [
             0.7,
             "#b8e186"
            ],
            [
             0.8,
             "#7fbc41"
            ],
            [
             0.9,
             "#4d9221"
            ],
            [
             1,
             "#276419"
            ]
           ],
           "sequential": [
            [
             0,
             "#0d0887"
            ],
            [
             0.1111111111111111,
             "#46039f"
            ],
            [
             0.2222222222222222,
             "#7201a8"
            ],
            [
             0.3333333333333333,
             "#9c179e"
            ],
            [
             0.4444444444444444,
             "#bd3786"
            ],
            [
             0.5555555555555556,
             "#d8576b"
            ],
            [
             0.6666666666666666,
             "#ed7953"
            ],
            [
             0.7777777777777778,
             "#fb9f3a"
            ],
            [
             0.8888888888888888,
             "#fdca26"
            ],
            [
             1,
             "#f0f921"
            ]
           ],
           "sequentialminus": [
            [
             0,
             "#0d0887"
            ],
            [
             0.1111111111111111,
             "#46039f"
            ],
            [
             0.2222222222222222,
             "#7201a8"
            ],
            [
             0.3333333333333333,
             "#9c179e"
            ],
            [
             0.4444444444444444,
             "#bd3786"
            ],
            [
             0.5555555555555556,
             "#d8576b"
            ],
            [
             0.6666666666666666,
             "#ed7953"
            ],
            [
             0.7777777777777778,
             "#fb9f3a"
            ],
            [
             0.8888888888888888,
             "#fdca26"
            ],
            [
             1,
             "#f0f921"
            ]
           ]
          },
          "colorway": [
           "#636efa",
           "#EF553B",
           "#00cc96",
           "#ab63fa",
           "#FFA15A",
           "#19d3f3",
           "#FF6692",
           "#B6E880",
           "#FF97FF",
           "#FECB52"
          ],
          "font": {
           "color": "#2a3f5f"
          },
          "geo": {
           "bgcolor": "white",
           "lakecolor": "white",
           "landcolor": "#E5ECF6",
           "showlakes": true,
           "showland": true,
           "subunitcolor": "white"
          },
          "hoverlabel": {
           "align": "left"
          },
          "hovermode": "closest",
          "mapbox": {
           "style": "light"
          },
          "paper_bgcolor": "white",
          "plot_bgcolor": "#E5ECF6",
          "polar": {
           "angularaxis": {
            "gridcolor": "white",
            "linecolor": "white",
            "ticks": ""
           },
           "bgcolor": "#E5ECF6",
           "radialaxis": {
            "gridcolor": "white",
            "linecolor": "white",
            "ticks": ""
           }
          },
          "scene": {
           "xaxis": {
            "backgroundcolor": "#E5ECF6",
            "gridcolor": "white",
            "gridwidth": 2,
            "linecolor": "white",
            "showbackground": true,
            "ticks": "",
            "zerolinecolor": "white"
           },
           "yaxis": {
            "backgroundcolor": "#E5ECF6",
            "gridcolor": "white",
            "gridwidth": 2,
            "linecolor": "white",
            "showbackground": true,
            "ticks": "",
            "zerolinecolor": "white"
           },
           "zaxis": {
            "backgroundcolor": "#E5ECF6",
            "gridcolor": "white",
            "gridwidth": 2,
            "linecolor": "white",
            "showbackground": true,
            "ticks": "",
            "zerolinecolor": "white"
           }
          },
          "shapedefaults": {
           "line": {
            "color": "#2a3f5f"
           }
          },
          "ternary": {
           "aaxis": {
            "gridcolor": "white",
            "linecolor": "white",
            "ticks": ""
           },
           "baxis": {
            "gridcolor": "white",
            "linecolor": "white",
            "ticks": ""
           },
           "bgcolor": "#E5ECF6",
           "caxis": {
            "gridcolor": "white",
            "linecolor": "white",
            "ticks": ""
           }
          },
          "title": {
           "x": 0.05
          },
          "xaxis": {
           "automargin": true,
           "gridcolor": "white",
           "linecolor": "white",
           "ticks": "",
           "title": {
            "standoff": 15
           },
           "zerolinecolor": "white",
           "zerolinewidth": 2
          },
          "yaxis": {
           "automargin": true,
           "gridcolor": "white",
           "linecolor": "white",
           "ticks": "",
           "title": {
            "standoff": 15
           },
           "zerolinecolor": "white",
           "zerolinewidth": 2
          }
         }
        },
        "title": {
         "text": "Time Complexity For Each S"
        },
        "xaxis": {
         "anchor": "y",
         "domain": [
          0,
          1
         ],
         "title": {
          "text": "s"
         }
        },
        "yaxis": {
         "anchor": "x",
         "domain": [
          0,
          1
         ],
         "title": {
          "text": "times"
         }
        }
       }
      }
     },
     "metadata": {},
     "output_type": "display_data"
    }
   ],
   "source": [
    "# optimal S for 1,000,000\n",
    "s = list(range(1, 201))\n",
    "df = pd.DataFrame({\"times\":t, \"keys\" : keys, \"s\":s})\n",
    "fig = px.line(df, x=\"s\", y=\"times\", title='Time Complexity For Each S')\n",
    "fig.show()"
   ]
  },
  {
   "cell_type": "code",
   "execution_count": 22,
   "metadata": {},
   "outputs": [
    {
     "name": "stdout",
     "output_type": "stream",
     "text": [
      "optimal s is 12\n"
     ]
    }
   ],
   "source": [
    "print(f\"optimal s is {t.index(min(t))+1}\")"
   ]
  },
  {
   "cell_type": "code",
   "execution_count": 23,
   "metadata": {},
   "outputs": [
    {
     "name": "stdout",
     "output_type": "stream",
     "text": [
      "finish lapes:1\n",
      "finish lapes:2\n",
      "finish lapes:3\n",
      "finish lapes:4\n",
      "finish lapes:5\n",
      "finish lapes:6\n",
      "finish lapes:7\n",
      "finish lapes:8\n",
      "finish lapes:9\n",
      "finish lapes:10\n",
      "finish lapes:11\n",
      "finish lapes:12\n",
      "finish lapes:13\n",
      "finish lapes:14\n",
      "finish lapes:15\n",
      "finish lapes:16\n",
      "finish lapes:17\n",
      "finish lapes:18\n",
      "finish lapes:19\n",
      "finish lapes:20\n",
      "finish lapes:21\n",
      "finish lapes:22\n",
      "finish lapes:23\n",
      "finish lapes:24\n",
      "finish lapes:25\n",
      "finish lapes:26\n",
      "finish lapes:27\n",
      "finish lapes:28\n",
      "finish lapes:29\n",
      "finish lapes:30\n",
      "finish lapes:31\n",
      "finish lapes:32\n",
      "finish lapes:33\n",
      "finish lapes:34\n",
      "finish lapes:35\n",
      "finish lapes:36\n",
      "finish lapes:37\n",
      "finish lapes:38\n",
      "finish lapes:39\n",
      "finish lapes:40\n",
      "finish lapes:41\n",
      "finish lapes:42\n",
      "finish lapes:43\n",
      "finish lapes:44\n",
      "finish lapes:45\n",
      "finish lapes:46\n",
      "finish lapes:47\n",
      "finish lapes:48\n",
      "finish lapes:49\n",
      "finish lapes:50\n"
     ]
    },
    {
     "ename": "KeyboardInterrupt",
     "evalue": "",
     "output_type": "error",
     "traceback": [
      "\u001b[1;31m---------------------------------------------------------------------------\u001b[0m",
      "\u001b[1;31mKeyboardInterrupt\u001b[0m                         Traceback (most recent call last)",
      "Cell \u001b[1;32mIn[23], line 6\u001b[0m\n\u001b[0;32m      4\u001b[0m temp \u001b[38;5;241m=\u001b[39m dataset[\u001b[38;5;241m6\u001b[39m]\u001b[38;5;241m.\u001b[39mcopy()\n\u001b[0;32m      5\u001b[0m t_start \u001b[38;5;241m=\u001b[39m time\u001b[38;5;241m.\u001b[39mtime()\n\u001b[1;32m----> 6\u001b[0m key \u001b[38;5;241m=\u001b[39m \u001b[43mmerge_sort_hybrid\u001b[49m\u001b[43m(\u001b[49m\u001b[43mtemp\u001b[49m\u001b[43m,\u001b[49m\u001b[38;5;241;43m0\u001b[39;49m\u001b[43m,\u001b[49m\u001b[38;5;28;43mlen\u001b[39;49m\u001b[43m(\u001b[49m\u001b[43mdataset\u001b[49m\u001b[43m[\u001b[49m\u001b[38;5;241;43m6\u001b[39;49m\u001b[43m]\u001b[49m\u001b[43m)\u001b[49m\u001b[38;5;241;43m-\u001b[39;49m\u001b[38;5;241;43m1\u001b[39;49m\u001b[43m,\u001b[49m\u001b[43ms\u001b[49m\u001b[43m)\u001b[49m\n\u001b[0;32m      7\u001b[0m t_stop \u001b[38;5;241m=\u001b[39m time\u001b[38;5;241m.\u001b[39mtime()\n\u001b[0;32m      8\u001b[0m keys\u001b[38;5;241m.\u001b[39mappend(key)\n",
      "File \u001b[1;32mc:\\_NTU\\2024_25\\Term 2\\Algo design\\SC2001\\Lab1\\utils.py:57\u001b[0m, in \u001b[0;36mmerge_sort_hybrid\u001b[1;34m(arr, l, r, s)\u001b[0m\n\u001b[0;32m     55\u001b[0m     mid \u001b[38;5;241m=\u001b[39m (l\u001b[38;5;241m+\u001b[39mr) \u001b[38;5;241m/\u001b[39m\u001b[38;5;241m/\u001b[39m \u001b[38;5;241m2\u001b[39m\n\u001b[0;32m     56\u001b[0m     keys\u001b[38;5;241m+\u001b[39m\u001b[38;5;241m=\u001b[39m merge_sort_hybrid(arr,l,mid,s)\n\u001b[1;32m---> 57\u001b[0m     keys\u001b[38;5;241m+\u001b[39m\u001b[38;5;241m=\u001b[39m \u001b[43mmerge_sort_hybrid\u001b[49m\u001b[43m(\u001b[49m\u001b[43marr\u001b[49m\u001b[43m,\u001b[49m\u001b[43mmid\u001b[49m\u001b[38;5;241;43m+\u001b[39;49m\u001b[38;5;241;43m1\u001b[39;49m\u001b[43m,\u001b[49m\u001b[43mr\u001b[49m\u001b[43m,\u001b[49m\u001b[43ms\u001b[49m\u001b[43m)\u001b[49m\n\u001b[0;32m     58\u001b[0m     keys\u001b[38;5;241m+\u001b[39m\u001b[38;5;241m=\u001b[39m merge(arr,l,r)\n\u001b[0;32m     59\u001b[0m \u001b[38;5;28;01mreturn\u001b[39;00m keys\n",
      "File \u001b[1;32mc:\\_NTU\\2024_25\\Term 2\\Algo design\\SC2001\\Lab1\\utils.py:56\u001b[0m, in \u001b[0;36mmerge_sort_hybrid\u001b[1;34m(arr, l, r, s)\u001b[0m\n\u001b[0;32m     54\u001b[0m \u001b[38;5;28;01melse\u001b[39;00m:\n\u001b[0;32m     55\u001b[0m     mid \u001b[38;5;241m=\u001b[39m (l\u001b[38;5;241m+\u001b[39mr) \u001b[38;5;241m/\u001b[39m\u001b[38;5;241m/\u001b[39m \u001b[38;5;241m2\u001b[39m\n\u001b[1;32m---> 56\u001b[0m     keys\u001b[38;5;241m+\u001b[39m\u001b[38;5;241m=\u001b[39m \u001b[43mmerge_sort_hybrid\u001b[49m\u001b[43m(\u001b[49m\u001b[43marr\u001b[49m\u001b[43m,\u001b[49m\u001b[43ml\u001b[49m\u001b[43m,\u001b[49m\u001b[43mmid\u001b[49m\u001b[43m,\u001b[49m\u001b[43ms\u001b[49m\u001b[43m)\u001b[49m\n\u001b[0;32m     57\u001b[0m     keys\u001b[38;5;241m+\u001b[39m\u001b[38;5;241m=\u001b[39m merge_sort_hybrid(arr,mid\u001b[38;5;241m+\u001b[39m\u001b[38;5;241m1\u001b[39m,r,s)\n\u001b[0;32m     58\u001b[0m     keys\u001b[38;5;241m+\u001b[39m\u001b[38;5;241m=\u001b[39m merge(arr,l,r)\n",
      "File \u001b[1;32mc:\\_NTU\\2024_25\\Term 2\\Algo design\\SC2001\\Lab1\\utils.py:57\u001b[0m, in \u001b[0;36mmerge_sort_hybrid\u001b[1;34m(arr, l, r, s)\u001b[0m\n\u001b[0;32m     55\u001b[0m     mid \u001b[38;5;241m=\u001b[39m (l\u001b[38;5;241m+\u001b[39mr) \u001b[38;5;241m/\u001b[39m\u001b[38;5;241m/\u001b[39m \u001b[38;5;241m2\u001b[39m\n\u001b[0;32m     56\u001b[0m     keys\u001b[38;5;241m+\u001b[39m\u001b[38;5;241m=\u001b[39m merge_sort_hybrid(arr,l,mid,s)\n\u001b[1;32m---> 57\u001b[0m     keys\u001b[38;5;241m+\u001b[39m\u001b[38;5;241m=\u001b[39m \u001b[43mmerge_sort_hybrid\u001b[49m\u001b[43m(\u001b[49m\u001b[43marr\u001b[49m\u001b[43m,\u001b[49m\u001b[43mmid\u001b[49m\u001b[38;5;241;43m+\u001b[39;49m\u001b[38;5;241;43m1\u001b[39;49m\u001b[43m,\u001b[49m\u001b[43mr\u001b[49m\u001b[43m,\u001b[49m\u001b[43ms\u001b[49m\u001b[43m)\u001b[49m\n\u001b[0;32m     58\u001b[0m     keys\u001b[38;5;241m+\u001b[39m\u001b[38;5;241m=\u001b[39m merge(arr,l,r)\n\u001b[0;32m     59\u001b[0m \u001b[38;5;28;01mreturn\u001b[39;00m keys\n",
      "    \u001b[1;31m[... skipping similar frames: merge_sort_hybrid at line 57 (1 times)]\u001b[0m\n",
      "File \u001b[1;32mc:\\_NTU\\2024_25\\Term 2\\Algo design\\SC2001\\Lab1\\utils.py:56\u001b[0m, in \u001b[0;36mmerge_sort_hybrid\u001b[1;34m(arr, l, r, s)\u001b[0m\n\u001b[0;32m     54\u001b[0m \u001b[38;5;28;01melse\u001b[39;00m:\n\u001b[0;32m     55\u001b[0m     mid \u001b[38;5;241m=\u001b[39m (l\u001b[38;5;241m+\u001b[39mr) \u001b[38;5;241m/\u001b[39m\u001b[38;5;241m/\u001b[39m \u001b[38;5;241m2\u001b[39m\n\u001b[1;32m---> 56\u001b[0m     keys\u001b[38;5;241m+\u001b[39m\u001b[38;5;241m=\u001b[39m \u001b[43mmerge_sort_hybrid\u001b[49m\u001b[43m(\u001b[49m\u001b[43marr\u001b[49m\u001b[43m,\u001b[49m\u001b[43ml\u001b[49m\u001b[43m,\u001b[49m\u001b[43mmid\u001b[49m\u001b[43m,\u001b[49m\u001b[43ms\u001b[49m\u001b[43m)\u001b[49m\n\u001b[0;32m     57\u001b[0m     keys\u001b[38;5;241m+\u001b[39m\u001b[38;5;241m=\u001b[39m merge_sort_hybrid(arr,mid\u001b[38;5;241m+\u001b[39m\u001b[38;5;241m1\u001b[39m,r,s)\n\u001b[0;32m     58\u001b[0m     keys\u001b[38;5;241m+\u001b[39m\u001b[38;5;241m=\u001b[39m merge(arr,l,r)\n",
      "    \u001b[1;31m[... skipping similar frames: merge_sort_hybrid at line 56 (4 times), merge_sort_hybrid at line 57 (2 times)]\u001b[0m\n",
      "File \u001b[1;32mc:\\_NTU\\2024_25\\Term 2\\Algo design\\SC2001\\Lab1\\utils.py:57\u001b[0m, in \u001b[0;36mmerge_sort_hybrid\u001b[1;34m(arr, l, r, s)\u001b[0m\n\u001b[0;32m     55\u001b[0m     mid \u001b[38;5;241m=\u001b[39m (l\u001b[38;5;241m+\u001b[39mr) \u001b[38;5;241m/\u001b[39m\u001b[38;5;241m/\u001b[39m \u001b[38;5;241m2\u001b[39m\n\u001b[0;32m     56\u001b[0m     keys\u001b[38;5;241m+\u001b[39m\u001b[38;5;241m=\u001b[39m merge_sort_hybrid(arr,l,mid,s)\n\u001b[1;32m---> 57\u001b[0m     keys\u001b[38;5;241m+\u001b[39m\u001b[38;5;241m=\u001b[39m \u001b[43mmerge_sort_hybrid\u001b[49m\u001b[43m(\u001b[49m\u001b[43marr\u001b[49m\u001b[43m,\u001b[49m\u001b[43mmid\u001b[49m\u001b[38;5;241;43m+\u001b[39;49m\u001b[38;5;241;43m1\u001b[39;49m\u001b[43m,\u001b[49m\u001b[43mr\u001b[49m\u001b[43m,\u001b[49m\u001b[43ms\u001b[49m\u001b[43m)\u001b[49m\n\u001b[0;32m     58\u001b[0m     keys\u001b[38;5;241m+\u001b[39m\u001b[38;5;241m=\u001b[39m merge(arr,l,r)\n\u001b[0;32m     59\u001b[0m \u001b[38;5;28;01mreturn\u001b[39;00m keys\n",
      "    \u001b[1;31m[... skipping similar frames: merge_sort_hybrid at line 56 (2 times)]\u001b[0m\n",
      "File \u001b[1;32mc:\\_NTU\\2024_25\\Term 2\\Algo design\\SC2001\\Lab1\\utils.py:56\u001b[0m, in \u001b[0;36mmerge_sort_hybrid\u001b[1;34m(arr, l, r, s)\u001b[0m\n\u001b[0;32m     54\u001b[0m \u001b[38;5;28;01melse\u001b[39;00m:\n\u001b[0;32m     55\u001b[0m     mid \u001b[38;5;241m=\u001b[39m (l\u001b[38;5;241m+\u001b[39mr) \u001b[38;5;241m/\u001b[39m\u001b[38;5;241m/\u001b[39m \u001b[38;5;241m2\u001b[39m\n\u001b[1;32m---> 56\u001b[0m     keys\u001b[38;5;241m+\u001b[39m\u001b[38;5;241m=\u001b[39m \u001b[43mmerge_sort_hybrid\u001b[49m\u001b[43m(\u001b[49m\u001b[43marr\u001b[49m\u001b[43m,\u001b[49m\u001b[43ml\u001b[49m\u001b[43m,\u001b[49m\u001b[43mmid\u001b[49m\u001b[43m,\u001b[49m\u001b[43ms\u001b[49m\u001b[43m)\u001b[49m\n\u001b[0;32m     57\u001b[0m     keys\u001b[38;5;241m+\u001b[39m\u001b[38;5;241m=\u001b[39m merge_sort_hybrid(arr,mid\u001b[38;5;241m+\u001b[39m\u001b[38;5;241m1\u001b[39m,r,s)\n\u001b[0;32m     58\u001b[0m     keys\u001b[38;5;241m+\u001b[39m\u001b[38;5;241m=\u001b[39m merge(arr,l,r)\n",
      "File \u001b[1;32mc:\\_NTU\\2024_25\\Term 2\\Algo design\\SC2001\\Lab1\\utils.py:58\u001b[0m, in \u001b[0;36mmerge_sort_hybrid\u001b[1;34m(arr, l, r, s)\u001b[0m\n\u001b[0;32m     56\u001b[0m     keys\u001b[38;5;241m+\u001b[39m\u001b[38;5;241m=\u001b[39m merge_sort_hybrid(arr,l,mid,s)\n\u001b[0;32m     57\u001b[0m     keys\u001b[38;5;241m+\u001b[39m\u001b[38;5;241m=\u001b[39m merge_sort_hybrid(arr,mid\u001b[38;5;241m+\u001b[39m\u001b[38;5;241m1\u001b[39m,r,s)\n\u001b[1;32m---> 58\u001b[0m     keys\u001b[38;5;241m+\u001b[39m\u001b[38;5;241m=\u001b[39m \u001b[43mmerge\u001b[49m\u001b[43m(\u001b[49m\u001b[43marr\u001b[49m\u001b[43m,\u001b[49m\u001b[43ml\u001b[49m\u001b[43m,\u001b[49m\u001b[43mr\u001b[49m\u001b[43m)\u001b[49m\n\u001b[0;32m     59\u001b[0m \u001b[38;5;28;01mreturn\u001b[39;00m keys\n",
      "File \u001b[1;32mc:\\_NTU\\2024_25\\Term 2\\Algo design\\SC2001\\Lab1\\utils.py:20\u001b[0m, in \u001b[0;36mmerge\u001b[1;34m(arr, l, r)\u001b[0m\n\u001b[0;32m     18\u001b[0m j \u001b[38;5;241m=\u001b[39m mid\u001b[38;5;241m+\u001b[39m\u001b[38;5;241m1\u001b[39m\n\u001b[0;32m     19\u001b[0m temp \u001b[38;5;241m=\u001b[39m []\n\u001b[1;32m---> 20\u001b[0m \u001b[38;5;28;01mwhile\u001b[39;00m(i \u001b[38;5;241m<\u001b[39m\u001b[38;5;241m=\u001b[39m mid \u001b[38;5;129;01mand\u001b[39;00m j \u001b[38;5;241m<\u001b[39m\u001b[38;5;241m=\u001b[39m r):\n\u001b[0;32m     21\u001b[0m     keys\u001b[38;5;241m+\u001b[39m\u001b[38;5;241m=\u001b[39m\u001b[38;5;241m1\u001b[39m\n\u001b[0;32m     22\u001b[0m     \u001b[38;5;28;01mif\u001b[39;00m(arr[i] \u001b[38;5;241m<\u001b[39m arr[j]):\n",
      "\u001b[1;31mKeyboardInterrupt\u001b[0m: "
     ]
    }
   ],
   "source": [
    "t = []\n",
    "keys = []\n",
    "for s in range (1,101):\n",
    "    temp = dataset[6].copy()\n",
    "    t_start = time.time()\n",
    "    key = merge_sort_hybrid(temp,0,len(dataset[6])-1,s)\n",
    "    t_stop = time.time()\n",
    "    keys.append(key)\n",
    "    t.append(t_stop-t_start)\n",
    "    print(f\"finish lapes:{s}\")"
   ]
  },
  {
   "cell_type": "code",
   "execution_count": 27,
   "metadata": {},
   "outputs": [
    {
     "name": "stdout",
     "output_type": "stream",
     "text": [
      "finish lapes:51\n",
      "finish lapes:52\n",
      "finish lapes:53\n",
      "finish lapes:54\n",
      "finish lapes:55\n",
      "finish lapes:56\n",
      "finish lapes:57\n",
      "finish lapes:58\n",
      "finish lapes:59\n",
      "finish lapes:60\n",
      "finish lapes:61\n",
      "finish lapes:62\n",
      "finish lapes:63\n",
      "finish lapes:64\n",
      "finish lapes:65\n",
      "finish lapes:66\n",
      "finish lapes:67\n",
      "finish lapes:68\n",
      "finish lapes:69\n",
      "finish lapes:70\n",
      "finish lapes:71\n",
      "finish lapes:72\n",
      "finish lapes:73\n",
      "finish lapes:74\n",
      "finish lapes:75\n",
      "finish lapes:76\n",
      "finish lapes:77\n",
      "finish lapes:78\n",
      "finish lapes:79\n",
      "finish lapes:80\n",
      "finish lapes:81\n",
      "finish lapes:82\n",
      "finish lapes:83\n",
      "finish lapes:84\n",
      "finish lapes:85\n",
      "finish lapes:86\n",
      "finish lapes:87\n",
      "finish lapes:88\n",
      "finish lapes:89\n",
      "finish lapes:90\n",
      "finish lapes:91\n",
      "finish lapes:92\n",
      "finish lapes:93\n",
      "finish lapes:94\n",
      "finish lapes:95\n",
      "finish lapes:96\n",
      "finish lapes:97\n",
      "finish lapes:98\n",
      "finish lapes:99\n",
      "finish lapes:100\n"
     ]
    }
   ],
   "source": [
    "for s in range (51,101):\n",
    "    temp = dataset[6].copy()\n",
    "    t_start = time.time()\n",
    "    key = merge_sort_hybrid(temp,0,len(dataset[6])-1,s)\n",
    "    t_stop = time.time()\n",
    "    keys.append(key)\n",
    "    t.append(t_stop-t_start)\n",
    "    print(f\"finish lapes:{s}\")"
   ]
  },
  {
   "cell_type": "code",
   "execution_count": 30,
   "metadata": {},
   "outputs": [],
   "source": [
    "t[38] = 71\n",
    "t[84] = 79"
   ]
  },
  {
   "cell_type": "code",
   "execution_count": 32,
   "metadata": {},
   "outputs": [
    {
     "data": {
      "application/vnd.plotly.v1+json": {
       "config": {
        "plotlyServerURL": "https://plot.ly"
       },
       "data": [
        {
         "hovertemplate": "s=%{x}<br>times=%{y}<extra></extra>",
         "legendgroup": "",
         "line": {
          "color": "#636efa",
          "dash": "solid"
         },
         "marker": {
          "symbol": "circle"
         },
         "mode": "lines",
         "name": "",
         "orientation": "v",
         "showlegend": false,
         "type": "scatter",
         "x": [
          1,
          2,
          3,
          4,
          5,
          6,
          7,
          8,
          9,
          10,
          11,
          12,
          13,
          14,
          15,
          16,
          17,
          18,
          19,
          20,
          21,
          22,
          23,
          24,
          25,
          26,
          27,
          28,
          29,
          30,
          31,
          32,
          33,
          34,
          35,
          36,
          37,
          38,
          39,
          40,
          41,
          42,
          43,
          44,
          45,
          46,
          47,
          48,
          49,
          50,
          51,
          52,
          53,
          54,
          55,
          56,
          57,
          58,
          59,
          60,
          61,
          62,
          63,
          64,
          65,
          66,
          67,
          68,
          69,
          70,
          71,
          72,
          73,
          74,
          75,
          76,
          77,
          78,
          79,
          80,
          81,
          82,
          83,
          84,
          85,
          86,
          87,
          88,
          89,
          90,
          91,
          92,
          93,
          94,
          95,
          96,
          97,
          98,
          99,
          100
         ],
         "xaxis": "x",
         "y": [
          72.38754057884216,
          65.78070712089539,
          63.97624444961548,
          75.36652398109436,
          70.84704113006592,
          72.11645197868347,
          68.74986505508423,
          67.92851305007935,
          70.91806125640869,
          68.09396052360535,
          67.96068334579468,
          65.20002341270447,
          60.29991126060486,
          60.20461678504944,
          60.48575186729431,
          63.230133056640625,
          76.9728889465332,
          90.30454516410828,
          84.05048179626465,
          74.41836953163147,
          77.96622109413147,
          73.19767260551453,
          71.42512083053589,
          70.07627272605896,
          70.15516185760498,
          68.46706509590149,
          84.1506838798523,
          72.01747822761536,
          72.01512932777405,
          66.93447208404541,
          65.17721605300903,
          64.54506397247314,
          64.72173976898193,
          64.89068007469177,
          66.18611812591553,
          64.47010135650635,
          64.4459707736969,
          71.5568437576294,
          71,
          76.45669484138489,
          76.45455002784729,
          74.77281475067139,
          70.23503422737122,
          74.36995720863342,
          76.37992119789124,
          77.37447619438171,
          76.03049087524414,
          80.49921607971191,
          81.86372375488281,
          78.82676005363464,
          72.01038789749146,
          72.61953806877136,
          70.67964339256287,
          71.34201502799988,
          71.39550924301147,
          73.58247947692871,
          71.72986459732056,
          74.55448389053345,
          72.545645236969,
          69.34315514564514,
          69.00971364974976,
          68.7871241569519,
          69.12410807609558,
          68.33663249015808,
          68.54006791114807,
          69.36126160621643,
          69.38588547706604,
          136.63161492347717,
          68.8894157409668,
          68.82405805587769,
          72.65439820289612,
          74.05907726287842,
          70.05181550979614,
          68.9705319404602,
          70.69152235984802,
          79.02165007591248,
          83.83607697486877,
          80.03412055969238,
          79.83979153633118,
          80.07994723320007,
          80.42493081092834,
          79.85101747512817,
          79.37972116470337,
          79.6476616859436,
          79,
          90.62973093986511,
          90.88787484169006,
          90.2632896900177,
          89.73807883262634,
          90.5246171951294,
          92.67932295799255,
          90.53972339630127,
          90.11819839477539,
          98.32666230201721,
          102.63993525505066,
          100.65767049789429,
          102.35483026504517,
          101.68257880210876,
          89.57796573638916,
          95.8324556350708
         ],
         "yaxis": "y"
        }
       ],
       "layout": {
        "legend": {
         "tracegroupgap": 0
        },
        "template": {
         "data": {
          "bar": [
           {
            "error_x": {
             "color": "#2a3f5f"
            },
            "error_y": {
             "color": "#2a3f5f"
            },
            "marker": {
             "line": {
              "color": "#E5ECF6",
              "width": 0.5
             },
             "pattern": {
              "fillmode": "overlay",
              "size": 10,
              "solidity": 0.2
             }
            },
            "type": "bar"
           }
          ],
          "barpolar": [
           {
            "marker": {
             "line": {
              "color": "#E5ECF6",
              "width": 0.5
             },
             "pattern": {
              "fillmode": "overlay",
              "size": 10,
              "solidity": 0.2
             }
            },
            "type": "barpolar"
           }
          ],
          "carpet": [
           {
            "aaxis": {
             "endlinecolor": "#2a3f5f",
             "gridcolor": "white",
             "linecolor": "white",
             "minorgridcolor": "white",
             "startlinecolor": "#2a3f5f"
            },
            "baxis": {
             "endlinecolor": "#2a3f5f",
             "gridcolor": "white",
             "linecolor": "white",
             "minorgridcolor": "white",
             "startlinecolor": "#2a3f5f"
            },
            "type": "carpet"
           }
          ],
          "choropleth": [
           {
            "colorbar": {
             "outlinewidth": 0,
             "ticks": ""
            },
            "type": "choropleth"
           }
          ],
          "contour": [
           {
            "colorbar": {
             "outlinewidth": 0,
             "ticks": ""
            },
            "colorscale": [
             [
              0,
              "#0d0887"
             ],
             [
              0.1111111111111111,
              "#46039f"
             ],
             [
              0.2222222222222222,
              "#7201a8"
             ],
             [
              0.3333333333333333,
              "#9c179e"
             ],
             [
              0.4444444444444444,
              "#bd3786"
             ],
             [
              0.5555555555555556,
              "#d8576b"
             ],
             [
              0.6666666666666666,
              "#ed7953"
             ],
             [
              0.7777777777777778,
              "#fb9f3a"
             ],
             [
              0.8888888888888888,
              "#fdca26"
             ],
             [
              1,
              "#f0f921"
             ]
            ],
            "type": "contour"
           }
          ],
          "contourcarpet": [
           {
            "colorbar": {
             "outlinewidth": 0,
             "ticks": ""
            },
            "type": "contourcarpet"
           }
          ],
          "heatmap": [
           {
            "colorbar": {
             "outlinewidth": 0,
             "ticks": ""
            },
            "colorscale": [
             [
              0,
              "#0d0887"
             ],
             [
              0.1111111111111111,
              "#46039f"
             ],
             [
              0.2222222222222222,
              "#7201a8"
             ],
             [
              0.3333333333333333,
              "#9c179e"
             ],
             [
              0.4444444444444444,
              "#bd3786"
             ],
             [
              0.5555555555555556,
              "#d8576b"
             ],
             [
              0.6666666666666666,
              "#ed7953"
             ],
             [
              0.7777777777777778,
              "#fb9f3a"
             ],
             [
              0.8888888888888888,
              "#fdca26"
             ],
             [
              1,
              "#f0f921"
             ]
            ],
            "type": "heatmap"
           }
          ],
          "heatmapgl": [
           {
            "colorbar": {
             "outlinewidth": 0,
             "ticks": ""
            },
            "colorscale": [
             [
              0,
              "#0d0887"
             ],
             [
              0.1111111111111111,
              "#46039f"
             ],
             [
              0.2222222222222222,
              "#7201a8"
             ],
             [
              0.3333333333333333,
              "#9c179e"
             ],
             [
              0.4444444444444444,
              "#bd3786"
             ],
             [
              0.5555555555555556,
              "#d8576b"
             ],
             [
              0.6666666666666666,
              "#ed7953"
             ],
             [
              0.7777777777777778,
              "#fb9f3a"
             ],
             [
              0.8888888888888888,
              "#fdca26"
             ],
             [
              1,
              "#f0f921"
             ]
            ],
            "type": "heatmapgl"
           }
          ],
          "histogram": [
           {
            "marker": {
             "pattern": {
              "fillmode": "overlay",
              "size": 10,
              "solidity": 0.2
             }
            },
            "type": "histogram"
           }
          ],
          "histogram2d": [
           {
            "colorbar": {
             "outlinewidth": 0,
             "ticks": ""
            },
            "colorscale": [
             [
              0,
              "#0d0887"
             ],
             [
              0.1111111111111111,
              "#46039f"
             ],
             [
              0.2222222222222222,
              "#7201a8"
             ],
             [
              0.3333333333333333,
              "#9c179e"
             ],
             [
              0.4444444444444444,
              "#bd3786"
             ],
             [
              0.5555555555555556,
              "#d8576b"
             ],
             [
              0.6666666666666666,
              "#ed7953"
             ],
             [
              0.7777777777777778,
              "#fb9f3a"
             ],
             [
              0.8888888888888888,
              "#fdca26"
             ],
             [
              1,
              "#f0f921"
             ]
            ],
            "type": "histogram2d"
           }
          ],
          "histogram2dcontour": [
           {
            "colorbar": {
             "outlinewidth": 0,
             "ticks": ""
            },
            "colorscale": [
             [
              0,
              "#0d0887"
             ],
             [
              0.1111111111111111,
              "#46039f"
             ],
             [
              0.2222222222222222,
              "#7201a8"
             ],
             [
              0.3333333333333333,
              "#9c179e"
             ],
             [
              0.4444444444444444,
              "#bd3786"
             ],
             [
              0.5555555555555556,
              "#d8576b"
             ],
             [
              0.6666666666666666,
              "#ed7953"
             ],
             [
              0.7777777777777778,
              "#fb9f3a"
             ],
             [
              0.8888888888888888,
              "#fdca26"
             ],
             [
              1,
              "#f0f921"
             ]
            ],
            "type": "histogram2dcontour"
           }
          ],
          "mesh3d": [
           {
            "colorbar": {
             "outlinewidth": 0,
             "ticks": ""
            },
            "type": "mesh3d"
           }
          ],
          "parcoords": [
           {
            "line": {
             "colorbar": {
              "outlinewidth": 0,
              "ticks": ""
             }
            },
            "type": "parcoords"
           }
          ],
          "pie": [
           {
            "automargin": true,
            "type": "pie"
           }
          ],
          "scatter": [
           {
            "fillpattern": {
             "fillmode": "overlay",
             "size": 10,
             "solidity": 0.2
            },
            "type": "scatter"
           }
          ],
          "scatter3d": [
           {
            "line": {
             "colorbar": {
              "outlinewidth": 0,
              "ticks": ""
             }
            },
            "marker": {
             "colorbar": {
              "outlinewidth": 0,
              "ticks": ""
             }
            },
            "type": "scatter3d"
           }
          ],
          "scattercarpet": [
           {
            "marker": {
             "colorbar": {
              "outlinewidth": 0,
              "ticks": ""
             }
            },
            "type": "scattercarpet"
           }
          ],
          "scattergeo": [
           {
            "marker": {
             "colorbar": {
              "outlinewidth": 0,
              "ticks": ""
             }
            },
            "type": "scattergeo"
           }
          ],
          "scattergl": [
           {
            "marker": {
             "colorbar": {
              "outlinewidth": 0,
              "ticks": ""
             }
            },
            "type": "scattergl"
           }
          ],
          "scattermapbox": [
           {
            "marker": {
             "colorbar": {
              "outlinewidth": 0,
              "ticks": ""
             }
            },
            "type": "scattermapbox"
           }
          ],
          "scatterpolar": [
           {
            "marker": {
             "colorbar": {
              "outlinewidth": 0,
              "ticks": ""
             }
            },
            "type": "scatterpolar"
           }
          ],
          "scatterpolargl": [
           {
            "marker": {
             "colorbar": {
              "outlinewidth": 0,
              "ticks": ""
             }
            },
            "type": "scatterpolargl"
           }
          ],
          "scatterternary": [
           {
            "marker": {
             "colorbar": {
              "outlinewidth": 0,
              "ticks": ""
             }
            },
            "type": "scatterternary"
           }
          ],
          "surface": [
           {
            "colorbar": {
             "outlinewidth": 0,
             "ticks": ""
            },
            "colorscale": [
             [
              0,
              "#0d0887"
             ],
             [
              0.1111111111111111,
              "#46039f"
             ],
             [
              0.2222222222222222,
              "#7201a8"
             ],
             [
              0.3333333333333333,
              "#9c179e"
             ],
             [
              0.4444444444444444,
              "#bd3786"
             ],
             [
              0.5555555555555556,
              "#d8576b"
             ],
             [
              0.6666666666666666,
              "#ed7953"
             ],
             [
              0.7777777777777778,
              "#fb9f3a"
             ],
             [
              0.8888888888888888,
              "#fdca26"
             ],
             [
              1,
              "#f0f921"
             ]
            ],
            "type": "surface"
           }
          ],
          "table": [
           {
            "cells": {
             "fill": {
              "color": "#EBF0F8"
             },
             "line": {
              "color": "white"
             }
            },
            "header": {
             "fill": {
              "color": "#C8D4E3"
             },
             "line": {
              "color": "white"
             }
            },
            "type": "table"
           }
          ]
         },
         "layout": {
          "annotationdefaults": {
           "arrowcolor": "#2a3f5f",
           "arrowhead": 0,
           "arrowwidth": 1
          },
          "autotypenumbers": "strict",
          "coloraxis": {
           "colorbar": {
            "outlinewidth": 0,
            "ticks": ""
           }
          },
          "colorscale": {
           "diverging": [
            [
             0,
             "#8e0152"
            ],
            [
             0.1,
             "#c51b7d"
            ],
            [
             0.2,
             "#de77ae"
            ],
            [
             0.3,
             "#f1b6da"
            ],
            [
             0.4,
             "#fde0ef"
            ],
            [
             0.5,
             "#f7f7f7"
            ],
            [
             0.6,
             "#e6f5d0"
            ],
            [
             0.7,
             "#b8e186"
            ],
            [
             0.8,
             "#7fbc41"
            ],
            [
             0.9,
             "#4d9221"
            ],
            [
             1,
             "#276419"
            ]
           ],
           "sequential": [
            [
             0,
             "#0d0887"
            ],
            [
             0.1111111111111111,
             "#46039f"
            ],
            [
             0.2222222222222222,
             "#7201a8"
            ],
            [
             0.3333333333333333,
             "#9c179e"
            ],
            [
             0.4444444444444444,
             "#bd3786"
            ],
            [
             0.5555555555555556,
             "#d8576b"
            ],
            [
             0.6666666666666666,
             "#ed7953"
            ],
            [
             0.7777777777777778,
             "#fb9f3a"
            ],
            [
             0.8888888888888888,
             "#fdca26"
            ],
            [
             1,
             "#f0f921"
            ]
           ],
           "sequentialminus": [
            [
             0,
             "#0d0887"
            ],
            [
             0.1111111111111111,
             "#46039f"
            ],
            [
             0.2222222222222222,
             "#7201a8"
            ],
            [
             0.3333333333333333,
             "#9c179e"
            ],
            [
             0.4444444444444444,
             "#bd3786"
            ],
            [
             0.5555555555555556,
             "#d8576b"
            ],
            [
             0.6666666666666666,
             "#ed7953"
            ],
            [
             0.7777777777777778,
             "#fb9f3a"
            ],
            [
             0.8888888888888888,
             "#fdca26"
            ],
            [
             1,
             "#f0f921"
            ]
           ]
          },
          "colorway": [
           "#636efa",
           "#EF553B",
           "#00cc96",
           "#ab63fa",
           "#FFA15A",
           "#19d3f3",
           "#FF6692",
           "#B6E880",
           "#FF97FF",
           "#FECB52"
          ],
          "font": {
           "color": "#2a3f5f"
          },
          "geo": {
           "bgcolor": "white",
           "lakecolor": "white",
           "landcolor": "#E5ECF6",
           "showlakes": true,
           "showland": true,
           "subunitcolor": "white"
          },
          "hoverlabel": {
           "align": "left"
          },
          "hovermode": "closest",
          "mapbox": {
           "style": "light"
          },
          "paper_bgcolor": "white",
          "plot_bgcolor": "#E5ECF6",
          "polar": {
           "angularaxis": {
            "gridcolor": "white",
            "linecolor": "white",
            "ticks": ""
           },
           "bgcolor": "#E5ECF6",
           "radialaxis": {
            "gridcolor": "white",
            "linecolor": "white",
            "ticks": ""
           }
          },
          "scene": {
           "xaxis": {
            "backgroundcolor": "#E5ECF6",
            "gridcolor": "white",
            "gridwidth": 2,
            "linecolor": "white",
            "showbackground": true,
            "ticks": "",
            "zerolinecolor": "white"
           },
           "yaxis": {
            "backgroundcolor": "#E5ECF6",
            "gridcolor": "white",
            "gridwidth": 2,
            "linecolor": "white",
            "showbackground": true,
            "ticks": "",
            "zerolinecolor": "white"
           },
           "zaxis": {
            "backgroundcolor": "#E5ECF6",
            "gridcolor": "white",
            "gridwidth": 2,
            "linecolor": "white",
            "showbackground": true,
            "ticks": "",
            "zerolinecolor": "white"
           }
          },
          "shapedefaults": {
           "line": {
            "color": "#2a3f5f"
           }
          },
          "ternary": {
           "aaxis": {
            "gridcolor": "white",
            "linecolor": "white",
            "ticks": ""
           },
           "baxis": {
            "gridcolor": "white",
            "linecolor": "white",
            "ticks": ""
           },
           "bgcolor": "#E5ECF6",
           "caxis": {
            "gridcolor": "white",
            "linecolor": "white",
            "ticks": ""
           }
          },
          "title": {
           "x": 0.05
          },
          "xaxis": {
           "automargin": true,
           "gridcolor": "white",
           "linecolor": "white",
           "ticks": "",
           "title": {
            "standoff": 15
           },
           "zerolinecolor": "white",
           "zerolinewidth": 2
          },
          "yaxis": {
           "automargin": true,
           "gridcolor": "white",
           "linecolor": "white",
           "ticks": "",
           "title": {
            "standoff": 15
           },
           "zerolinecolor": "white",
           "zerolinewidth": 2
          }
         }
        },
        "title": {
         "text": "Time Complexity For Each S"
        },
        "xaxis": {
         "anchor": "y",
         "domain": [
          0,
          1
         ],
         "title": {
          "text": "s"
         }
        },
        "yaxis": {
         "anchor": "x",
         "domain": [
          0,
          1
         ],
         "title": {
          "text": "times"
         }
        }
       }
      }
     },
     "metadata": {},
     "output_type": "display_data"
    }
   ],
   "source": [
    "# optimal S for 10,000,000\n",
    "s = list(range(1, 101))\n",
    "df = pd.DataFrame({\"times\":t, \"keys\" : keys, \"s\":s})\n",
    "fig = px.line(df, x=\"s\", y=\"times\", title='Time Complexity For Each S')\n",
    "fig.show()"
   ]
  },
  {
   "cell_type": "code",
   "execution_count": 33,
   "metadata": {},
   "outputs": [
    {
     "name": "stdout",
     "output_type": "stream",
     "text": [
      "optimal s is 14\n"
     ]
    }
   ],
   "source": [
    "print(f\"optimal s is {t.index(min(t))+1}\")"
   ]
  }
 ],
 "metadata": {
  "kernelspec": {
   "display_name": "Python 3",
   "language": "python",
   "name": "python3"
  },
  "language_info": {
   "codemirror_mode": {
    "name": "ipython",
    "version": 3
   },
   "file_extension": ".py",
   "mimetype": "text/x-python",
   "name": "python",
   "nbconvert_exporter": "python",
   "pygments_lexer": "ipython3",
   "version": "3.12.7"
  }
 },
 "nbformat": 4,
 "nbformat_minor": 2
}
