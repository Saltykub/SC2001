{
 "cells": [
  {
   "cell_type": "code",
   "execution_count": null,
   "metadata": {},
   "outputs": [],
   "source": [
    "from utils import *\n",
    "import time\n",
    "import plotly.express as px"
   ]
  },
  {
   "cell_type": "code",
   "execution_count": 3,
   "metadata": {},
   "outputs": [],
   "source": [
    "random.seed(123)\n",
    "dataset = []\n",
    "for i in range(1,8):\n",
    "    data = generate_sample(10**i)\n",
    "    dataset.append(data)"
   ]
  },
  {
   "cell_type": "code",
   "execution_count": 4,
   "metadata": {},
   "outputs": [
    {
     "name": "stdout",
     "output_type": "stream",
     "text": [
      "[54908, 280680, 91422, 806310, 427024, 279502, 112932, 879235, 944976, 917322]\n"
     ]
    }
   ],
   "source": [
    "print(dataset[0])"
   ]
  },
  {
   "cell_type": "code",
   "execution_count": 14,
   "metadata": {},
   "outputs": [
    {
     "name": "stdout",
     "output_type": "stream",
     "text": [
      "[54908, 280680, 91422, 806310, 427024, 279502, 112932, 879235, 944976, 917322]\n",
      "[54908, 91422, 112932, 279502, 280680, 427024, 806310, 879235, 917322, 944976]\n",
      "19\n"
     ]
    }
   ],
   "source": [
    "temp = dataset[0].copy()\n",
    "print(temp)\n",
    "k = merge_sort_hybrid(temp,0,len(temp)-1,len(temp))\n",
    "print(temp)\n",
    "print(k)"
   ]
  },
  {
   "cell_type": "code",
   "execution_count": 15,
   "metadata": {},
   "outputs": [
    {
     "name": "stdout",
     "output_type": "stream",
     "text": [
      "[54908, 280680, 91422, 806310, 427024, 279502, 112932, 879235, 944976, 917322]\n",
      "[54908, 91422, 112932, 279502, 280680, 427024, 806310, 879235, 917322, 944976]\n",
      "21\n"
     ]
    }
   ],
   "source": [
    "temp = dataset[0].copy()\n",
    "print(temp)\n",
    "k = merge_sort(temp,0,len(temp)-1)\n",
    "print(temp)\n",
    "print(k)"
   ]
  },
  {
   "cell_type": "code",
   "execution_count": 18,
   "metadata": {},
   "outputs": [
    {
     "name": "stdout",
     "output_type": "stream",
     "text": [
      "[23, 23, 23, 23, 23, 23, 23, 23]\n",
      "[23, 23, 23, 23, 23, 23, 23, 23]\n",
      "12\n"
     ]
    }
   ],
   "source": [
    "temp = [23, 23, 23, 23, 23, 23, 23, 23]\n",
    "print(temp)\n",
    "k = merge_sort(temp,0,len(temp)-1)\n",
    "print(temp)\n",
    "print(k)"
   ]
  }
 ],
 "metadata": {
  "kernelspec": {
   "display_name": "Python [conda env:base] *",
   "language": "python",
   "name": "conda-base-py"
  },
  "language_info": {
   "codemirror_mode": {
    "name": "ipython",
    "version": 3
   },
   "file_extension": ".py",
   "mimetype": "text/x-python",
   "name": "python",
   "nbconvert_exporter": "python",
   "pygments_lexer": "ipython3",
   "version": "3.12.7"
  }
 },
 "nbformat": 4,
 "nbformat_minor": 4
}
