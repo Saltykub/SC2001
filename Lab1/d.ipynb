{
 "cells": [
  {
   "cell_type": "code",
   "execution_count": 1,
   "id": "1937a363-808d-4cf6-8556-06ab78462d63",
   "metadata": {},
   "outputs": [],
   "source": [
    "from utils import *\n",
    "import time\n",
    "import plotly.express as px"
   ]
  },
  {
   "cell_type": "code",
   "execution_count": 2,
   "id": "8f5f7154-fdda-4427-857c-6a7af4d5e7fd",
   "metadata": {},
   "outputs": [],
   "source": [
    "random.seed(123)\n",
    "dataset = []\n",
    "for i in range(1,8):\n",
    "    data = generate_sample(10**i)\n",
    "    dataset.append(data)"
   ]
  },
  {
   "cell_type": "code",
   "execution_count": 3,
   "id": "cf383fcc-6c22-47c6-9b6f-c3d794f80305",
   "metadata": {},
   "outputs": [],
   "source": [
    "originalMerge = dataset[6].copy()\n",
    "hybridMerge = dataset[6].copy()"
   ]
  },
  {
   "cell_type": "code",
   "execution_count": 4,
   "id": "3c523040-97d1-4158-b31f-fb67f2eef948",
   "metadata": {},
   "outputs": [
    {
     "name": "stdout",
     "output_type": "stream",
     "text": [
      " Key Comparisons: 220096852 \n",
      " CPU Time: 88.21292972564697s\n"
     ]
    }
   ],
   "source": [
    "start_time = time.time()\n",
    "originalK = merge_sort(originalMerge,0,len(originalMerge)-1)\n",
    "end_time = time.time()\n",
    "\n",
    "execution_time = end_time - start_time\n",
    "print(f\" Key Comparisons: {originalK} \\n CPU Time: {execution_time}s\")"
   ]
  },
  {
   "cell_type": "code",
   "execution_count": 5,
   "id": "cf26eff7-2353-4c09-99f7-140fccd2b578",
   "metadata": {},
   "outputs": [
    {
     "name": "stdout",
     "output_type": "stream",
     "text": [
      " Key Comparisons: 226419443 \n",
      " CPU Time: 65.051602602005s\n"
     ]
    }
   ],
   "source": [
    "start_time = time.time()\n",
    "hybridK = merge_sort_hybrid(hybridMerge,0,len(hybridMerge)-1,14)\n",
    "end_time = time.time()\n",
    "\n",
    "execution_time = end_time - start_time\n",
    "print(f\" Key Comparisons: {hybridK} \\n CPU Time: {execution_time}s\")"
   ]
  }
 ],
 "metadata": {
  "kernelspec": {
   "display_name": "Python 3",
   "language": "python",
   "name": "python3"
  },
  "language_info": {
   "codemirror_mode": {
    "name": "ipython",
    "version": 3
   },
   "file_extension": ".py",
   "mimetype": "text/x-python",
   "name": "python",
   "nbconvert_exporter": "python",
   "pygments_lexer": "ipython3",
   "version": "3.12.7"
  }
 },
 "nbformat": 4,
 "nbformat_minor": 5
}
